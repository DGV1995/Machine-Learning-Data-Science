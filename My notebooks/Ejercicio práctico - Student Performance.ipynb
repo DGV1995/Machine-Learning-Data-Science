{
 "cells": [
  {
   "cell_type": "markdown",
   "metadata": {},
   "source": [
    "# Student exam performance Linear Regression"
   ]
  },
  {
   "cell_type": "code",
   "execution_count": 1,
   "metadata": {},
   "outputs": [],
   "source": [
    "import pandas as pd\n",
    "import numpy as np\n",
    "import matplotlib.pyplot as plt"
   ]
  },
  {
   "cell_type": "code",
   "execution_count": 65,
   "metadata": {},
   "outputs": [
    {
     "data": {
      "text/html": [
       "<div>\n",
       "<style scoped>\n",
       "    .dataframe tbody tr th:only-of-type {\n",
       "        vertical-align: middle;\n",
       "    }\n",
       "\n",
       "    .dataframe tbody tr th {\n",
       "        vertical-align: top;\n",
       "    }\n",
       "\n",
       "    .dataframe thead th {\n",
       "        text-align: right;\n",
       "    }\n",
       "</style>\n",
       "<table border=\"1\" class=\"dataframe\">\n",
       "  <thead>\n",
       "    <tr style=\"text-align: right;\">\n",
       "      <th></th>\n",
       "      <th>gender</th>\n",
       "      <th>race/ethnicity</th>\n",
       "      <th>parental level of education</th>\n",
       "      <th>lunch</th>\n",
       "      <th>test preparation course</th>\n",
       "      <th>math score</th>\n",
       "      <th>reading score</th>\n",
       "      <th>writing score</th>\n",
       "    </tr>\n",
       "  </thead>\n",
       "  <tbody>\n",
       "    <tr>\n",
       "      <th>0</th>\n",
       "      <td>female</td>\n",
       "      <td>group B</td>\n",
       "      <td>bachelor's degree</td>\n",
       "      <td>standard</td>\n",
       "      <td>none</td>\n",
       "      <td>72</td>\n",
       "      <td>72</td>\n",
       "      <td>74</td>\n",
       "    </tr>\n",
       "    <tr>\n",
       "      <th>1</th>\n",
       "      <td>female</td>\n",
       "      <td>group C</td>\n",
       "      <td>some college</td>\n",
       "      <td>standard</td>\n",
       "      <td>completed</td>\n",
       "      <td>69</td>\n",
       "      <td>90</td>\n",
       "      <td>88</td>\n",
       "    </tr>\n",
       "    <tr>\n",
       "      <th>2</th>\n",
       "      <td>female</td>\n",
       "      <td>group B</td>\n",
       "      <td>master's degree</td>\n",
       "      <td>standard</td>\n",
       "      <td>none</td>\n",
       "      <td>90</td>\n",
       "      <td>95</td>\n",
       "      <td>93</td>\n",
       "    </tr>\n",
       "    <tr>\n",
       "      <th>3</th>\n",
       "      <td>male</td>\n",
       "      <td>group A</td>\n",
       "      <td>associate's degree</td>\n",
       "      <td>free/reduced</td>\n",
       "      <td>none</td>\n",
       "      <td>47</td>\n",
       "      <td>57</td>\n",
       "      <td>44</td>\n",
       "    </tr>\n",
       "    <tr>\n",
       "      <th>4</th>\n",
       "      <td>male</td>\n",
       "      <td>group C</td>\n",
       "      <td>some college</td>\n",
       "      <td>standard</td>\n",
       "      <td>none</td>\n",
       "      <td>76</td>\n",
       "      <td>78</td>\n",
       "      <td>75</td>\n",
       "    </tr>\n",
       "  </tbody>\n",
       "</table>\n",
       "</div>"
      ],
      "text/plain": [
       "   gender race/ethnicity parental level of education         lunch  \\\n",
       "0  female        group B           bachelor's degree      standard   \n",
       "1  female        group C                some college      standard   \n",
       "2  female        group B             master's degree      standard   \n",
       "3    male        group A          associate's degree  free/reduced   \n",
       "4    male        group C                some college      standard   \n",
       "\n",
       "  test preparation course  math score  reading score  writing score  \n",
       "0                    none          72             72             74  \n",
       "1               completed          69             90             88  \n",
       "2                    none          90             95             93  \n",
       "3                    none          47             57             44  \n",
       "4                    none          76             78             75  "
      ]
     },
     "execution_count": 65,
     "metadata": {},
     "output_type": "execute_result"
    }
   ],
   "source": [
    "data = pd.read_csv(\"../datasets/students-exam/StudentsPerformance.csv\")\n",
    "data.head()"
   ]
  },
  {
   "cell_type": "code",
   "execution_count": 3,
   "metadata": {},
   "outputs": [
    {
     "data": {
      "text/plain": [
       "(1000, 8)"
      ]
     },
     "execution_count": 3,
     "metadata": {},
     "output_type": "execute_result"
    }
   ],
   "source": [
    "data.shape"
   ]
  },
  {
   "cell_type": "code",
   "execution_count": 4,
   "metadata": {},
   "outputs": [
    {
     "name": "stdout",
     "output_type": "stream",
     "text": [
      "<class 'pandas.core.frame.DataFrame'>\n",
      "RangeIndex: 1000 entries, 0 to 999\n",
      "Data columns (total 8 columns):\n",
      "gender                         1000 non-null object\n",
      "race/ethnicity                 1000 non-null object\n",
      "parental level of education    1000 non-null object\n",
      "lunch                          1000 non-null object\n",
      "test preparation course        1000 non-null object\n",
      "math score                     1000 non-null int64\n",
      "reading score                  1000 non-null int64\n",
      "writing score                  1000 non-null int64\n",
      "dtypes: int64(3), object(5)\n",
      "memory usage: 62.6+ KB\n"
     ]
    }
   ],
   "source": [
    "data.info()"
   ]
  },
  {
   "cell_type": "markdown",
   "metadata": {},
   "source": [
    "## Data analysis"
   ]
  },
  {
   "cell_type": "code",
   "execution_count": 7,
   "metadata": {},
   "outputs": [
    {
     "name": "stdout",
     "output_type": "stream",
     "text": [
      "Math mean: 66.089\n",
      "Reading mean: 69.169\n",
      "Writing mean: 68.054\n"
     ]
    }
   ],
   "source": [
    "print(\"Math mean: {:.3f}\".format(np.mean(data[\"math score\"])))\n",
    "print(\"Reading mean: {:.3f}\".format(np.mean(data[\"reading score\"])))\n",
    "print(\"Writing mean: {:.3f}\".format(np.mean(data[\"writing score\"])))"
   ]
  },
  {
   "cell_type": "code",
   "execution_count": 8,
   "metadata": {},
   "outputs": [
    {
     "data": {
      "text/plain": [
       "array([\"bachelor's degree\", 'some college', \"master's degree\",\n",
       "       \"associate's degree\", 'high school', 'some high school'],\n",
       "      dtype=object)"
      ]
     },
     "execution_count": 8,
     "metadata": {},
     "output_type": "execute_result"
    }
   ],
   "source": [
    "data[\"parental level of education\"].unique()"
   ]
  },
  {
   "cell_type": "code",
   "execution_count": 9,
   "metadata": {},
   "outputs": [],
   "source": [
    "high_school = data[data[\"parental level of education\"] == \"high school\"]\n",
    "bachelor = data[data[\"parental level of education\"] == \"bachelor's degree\"]\n",
    "some_college = data[data[\"parental level of education\"] == \"some college\"]\n",
    "master = data[data[\"parental level of education\"] == \"master's degree\"]\n",
    "associate = data[data[\"parental level of education\"] == \"associate's degree\"]\n",
    "some_high_school = data[data[\"parental level of education\"] == \"some high school\"]"
   ]
  },
  {
   "cell_type": "code",
   "execution_count": 14,
   "metadata": {},
   "outputs": [],
   "source": [
    "parental_levels = [\"Some high school\", \"High school\", \"Some college\", \"Associate\", \"Bachelor\", \"Master\"]\n",
    "education_list=[len(some_high_school),len(high_school),len(some_college),len(associate),len(bachelor),len(master)]"
   ]
  },
  {
   "cell_type": "code",
   "execution_count": 17,
   "metadata": {},
   "outputs": [
    {
     "data": {
      "text/plain": [
       "([<matplotlib.patches.Wedge at 0x1253cb9b0>,\n",
       "  <matplotlib.patches.Wedge at 0x1253cbf98>,\n",
       "  <matplotlib.patches.Wedge at 0x11dd0d518>,\n",
       "  <matplotlib.patches.Wedge at 0x11dd0d2b0>,\n",
       "  <matplotlib.patches.Wedge at 0x11dd0dcf8>,\n",
       "  <matplotlib.patches.Wedge at 0x124dea390>],\n",
       " [Text(0.930607806789927, 0.5864887977972316, 'Some high school'),\n",
       "  Text(-0.1857168066438953, 1.0842090516731513, 'High school'),\n",
       "  Text(-1.0968747892626372, 0.0828594996367077, 'Some college'),\n",
       "  Text(-0.2601489135374882, -1.0687949021141825, 'Associate'),\n",
       "  Text(0.8112644257554884, -0.7428660925790178, 'Bachelor'),\n",
       "  Text(1.0811581857178525, -0.20272389463327067, 'Master')])"
      ]
     },
     "execution_count": 17,
     "metadata": {},
     "output_type": "execute_result"
    },
    {
     "data": {
      "image/png": "[encoded data removed]",
      "text/plain": [
       "<Figure size 576x576 with 1 Axes>"
      ]
     },
     "metadata": {},
     "output_type": "display_data"
    }
   ],
   "source": [
    "plt.figure(figsize=(8,8))\n",
    "plt.pie(education_list, labels=parental_levels)"
   ]
  },
  {
   "cell_type": "code",
   "execution_count": 26,
   "metadata": {},
   "outputs": [
    {
     "data": {
      "image/png": "[encoded data removed]",
      "text/plain": [
       "<Figure size 720x504 with 1 Axes>"
      ]
     },
     "metadata": {
      "needs_background": "light"
     },
     "output_type": "display_data"
    }
   ],
   "source": [
    "plt.figure(figsize=(10,7))\n",
    "plt.hist(data[\"math score\"], color=\"orange\", alpha=0.7, rwidth=0.85, bins=\"auto\")\n",
    "plt.title(\"Distirbution of math test\")\n",
    "plt.xlabel(\"Math Score\")\n",
    "plt.ylabel(\"Number of students\")\n",
    "plt.show()"
   ]
  },
  {
   "cell_type": "markdown",
   "metadata": {},
   "source": [
    "## Data selection"
   ]
  },
  {
   "cell_type": "code",
   "execution_count": 66,
   "metadata": {},
   "outputs": [],
   "source": [
    "education_params = {\n",
    "    \"some high school\": 0,\n",
    "    \"high school\": 1,\n",
    "    \"some college\": 2,\n",
    "    \"associate's degree\": 3,\n",
    "    \"bachelor's degree\": 4,\n",
    "    \"master's degree\": 5\n",
    "}\n",
    "\n",
    "lunch_params = {\n",
    "    \"standard\": 1,\n",
    "    \"free/reduced\": 2\n",
    "}\n",
    "\n",
    "course_params = {\n",
    "    \"none\": 0,\n",
    "    \"completed\": 1\n",
    "}\n",
    "\n",
    "gender_params = {\n",
    "    \"female\": 1,\n",
    "    \"male\": 2\n",
    "}\n",
    "\n",
    "race_params = {\n",
    "    \"group A\": 1,\n",
    "    \"group B\": 2,\n",
    "    \"group C\": 3,\n",
    "    \"group D\": 4,\n",
    "    \"group E\": 5\n",
    "}"
   ]
  },
  {
   "cell_type": "code",
   "execution_count": 67,
   "metadata": {},
   "outputs": [
    {
     "data": {
      "text/html": [
       "<div>\n",
       "<style scoped>\n",
       "    .dataframe tbody tr th:only-of-type {\n",
       "        vertical-align: middle;\n",
       "    }\n",
       "\n",
       "    .dataframe tbody tr th {\n",
       "        vertical-align: top;\n",
       "    }\n",
       "\n",
       "    .dataframe thead th {\n",
       "        text-align: right;\n",
       "    }\n",
       "</style>\n",
       "<table border=\"1\" class=\"dataframe\">\n",
       "  <thead>\n",
       "    <tr style=\"text-align: right;\">\n",
       "      <th></th>\n",
       "      <th>gender</th>\n",
       "      <th>race/ethnicity</th>\n",
       "      <th>parental level of education</th>\n",
       "      <th>lunch</th>\n",
       "      <th>test preparation course</th>\n",
       "      <th>math score</th>\n",
       "      <th>reading score</th>\n",
       "      <th>writing score</th>\n",
       "    </tr>\n",
       "  </thead>\n",
       "  <tbody>\n",
       "    <tr>\n",
       "      <th>0</th>\n",
       "      <td>1</td>\n",
       "      <td>2</td>\n",
       "      <td>4</td>\n",
       "      <td>1</td>\n",
       "      <td>0</td>\n",
       "      <td>72</td>\n",
       "      <td>72</td>\n",
       "      <td>74</td>\n",
       "    </tr>\n",
       "    <tr>\n",
       "      <th>1</th>\n",
       "      <td>1</td>\n",
       "      <td>3</td>\n",
       "      <td>2</td>\n",
       "      <td>1</td>\n",
       "      <td>1</td>\n",
       "      <td>69</td>\n",
       "      <td>90</td>\n",
       "      <td>88</td>\n",
       "    </tr>\n",
       "    <tr>\n",
       "      <th>2</th>\n",
       "      <td>1</td>\n",
       "      <td>2</td>\n",
       "      <td>5</td>\n",
       "      <td>1</td>\n",
       "      <td>0</td>\n",
       "      <td>90</td>\n",
       "      <td>95</td>\n",
       "      <td>93</td>\n",
       "    </tr>\n",
       "    <tr>\n",
       "      <th>3</th>\n",
       "      <td>2</td>\n",
       "      <td>1</td>\n",
       "      <td>3</td>\n",
       "      <td>2</td>\n",
       "      <td>0</td>\n",
       "      <td>47</td>\n",
       "      <td>57</td>\n",
       "      <td>44</td>\n",
       "    </tr>\n",
       "    <tr>\n",
       "      <th>4</th>\n",
       "      <td>2</td>\n",
       "      <td>3</td>\n",
       "      <td>2</td>\n",
       "      <td>1</td>\n",
       "      <td>0</td>\n",
       "      <td>76</td>\n",
       "      <td>78</td>\n",
       "      <td>75</td>\n",
       "    </tr>\n",
       "  </tbody>\n",
       "</table>\n",
       "</div>"
      ],
      "text/plain": [
       "   gender  race/ethnicity  parental level of education  lunch  \\\n",
       "0       1               2                            4      1   \n",
       "1       1               3                            2      1   \n",
       "2       1               2                            5      1   \n",
       "3       2               1                            3      2   \n",
       "4       2               3                            2      1   \n",
       "\n",
       "   test preparation course  math score  reading score  writing score  \n",
       "0                        0          72             72             74  \n",
       "1                        1          69             90             88  \n",
       "2                        0          90             95             93  \n",
       "3                        0          47             57             44  \n",
       "4                        0          76             78             75  "
      ]
     },
     "execution_count": 67,
     "metadata": {},
     "output_type": "execute_result"
    }
   ],
   "source": [
    "data[\"parental level of education\"] = data[\"parental level of education\"].map(education_params)\n",
    "data[\"lunch\"] = data[\"lunch\"].map(lunch_params)\n",
    "data[\"test preparation course\"] = data[\"test preparation course\"].map(course_params)\n",
    "data[\"gender\"] = data[\"gender\"].map(gender_params)\n",
    "data[\"race/ethnicity\"] = data[\"race/ethnicity\"].map(race_params)\n",
    "data.head()"
   ]
  },
  {
   "cell_type": "code",
   "execution_count": 68,
   "metadata": {},
   "outputs": [
    {
     "data": {
      "text/html": [
       "<div>\n",
       "<style scoped>\n",
       "    .dataframe tbody tr th:only-of-type {\n",
       "        vertical-align: middle;\n",
       "    }\n",
       "\n",
       "    .dataframe tbody tr th {\n",
       "        vertical-align: top;\n",
       "    }\n",
       "\n",
       "    .dataframe thead th {\n",
       "        text-align: right;\n",
       "    }\n",
       "</style>\n",
       "<table border=\"1\" class=\"dataframe\">\n",
       "  <thead>\n",
       "    <tr style=\"text-align: right;\">\n",
       "      <th></th>\n",
       "      <th>gender</th>\n",
       "      <th>race/ethnicity</th>\n",
       "      <th>parental level of education</th>\n",
       "      <th>lunch</th>\n",
       "      <th>test preparation course</th>\n",
       "      <th>math score</th>\n",
       "      <th>reading score</th>\n",
       "      <th>writing score</th>\n",
       "      <th>total score</th>\n",
       "    </tr>\n",
       "  </thead>\n",
       "  <tbody>\n",
       "    <tr>\n",
       "      <th>0</th>\n",
       "      <td>1</td>\n",
       "      <td>2</td>\n",
       "      <td>4</td>\n",
       "      <td>1</td>\n",
       "      <td>0</td>\n",
       "      <td>72</td>\n",
       "      <td>72</td>\n",
       "      <td>74</td>\n",
       "      <td>218</td>\n",
       "    </tr>\n",
       "    <tr>\n",
       "      <th>1</th>\n",
       "      <td>1</td>\n",
       "      <td>3</td>\n",
       "      <td>2</td>\n",
       "      <td>1</td>\n",
       "      <td>1</td>\n",
       "      <td>69</td>\n",
       "      <td>90</td>\n",
       "      <td>88</td>\n",
       "      <td>247</td>\n",
       "    </tr>\n",
       "    <tr>\n",
       "      <th>2</th>\n",
       "      <td>1</td>\n",
       "      <td>2</td>\n",
       "      <td>5</td>\n",
       "      <td>1</td>\n",
       "      <td>0</td>\n",
       "      <td>90</td>\n",
       "      <td>95</td>\n",
       "      <td>93</td>\n",
       "      <td>278</td>\n",
       "    </tr>\n",
       "    <tr>\n",
       "      <th>3</th>\n",
       "      <td>2</td>\n",
       "      <td>1</td>\n",
       "      <td>3</td>\n",
       "      <td>2</td>\n",
       "      <td>0</td>\n",
       "      <td>47</td>\n",
       "      <td>57</td>\n",
       "      <td>44</td>\n",
       "      <td>148</td>\n",
       "    </tr>\n",
       "    <tr>\n",
       "      <th>4</th>\n",
       "      <td>2</td>\n",
       "      <td>3</td>\n",
       "      <td>2</td>\n",
       "      <td>1</td>\n",
       "      <td>0</td>\n",
       "      <td>76</td>\n",
       "      <td>78</td>\n",
       "      <td>75</td>\n",
       "      <td>229</td>\n",
       "    </tr>\n",
       "  </tbody>\n",
       "</table>\n",
       "</div>"
      ],
      "text/plain": [
       "   gender  race/ethnicity  parental level of education  lunch  \\\n",
       "0       1               2                            4      1   \n",
       "1       1               3                            2      1   \n",
       "2       1               2                            5      1   \n",
       "3       2               1                            3      2   \n",
       "4       2               3                            2      1   \n",
       "\n",
       "   test preparation course  math score  reading score  writing score  \\\n",
       "0                        0          72             72             74   \n",
       "1                        1          69             90             88   \n",
       "2                        0          90             95             93   \n",
       "3                        0          47             57             44   \n",
       "4                        0          76             78             75   \n",
       "\n",
       "   total score  \n",
       "0          218  \n",
       "1          247  \n",
       "2          278  \n",
       "3          148  \n",
       "4          229  "
      ]
     },
     "execution_count": 68,
     "metadata": {},
     "output_type": "execute_result"
    }
   ],
   "source": [
    "data[\"total score\"] = data[\"math score\"] + data[\"reading score\"] + data[\"writing score\"]\n",
    "data.head()"
   ]
  },
  {
   "cell_type": "code",
   "execution_count": 69,
   "metadata": {},
   "outputs": [
    {
     "data": {
      "text/html": [
       "<div>\n",
       "<style scoped>\n",
       "    .dataframe tbody tr th:only-of-type {\n",
       "        vertical-align: middle;\n",
       "    }\n",
       "\n",
       "    .dataframe tbody tr th {\n",
       "        vertical-align: top;\n",
       "    }\n",
       "\n",
       "    .dataframe thead th {\n",
       "        text-align: right;\n",
       "    }\n",
       "</style>\n",
       "<table border=\"1\" class=\"dataframe\">\n",
       "  <thead>\n",
       "    <tr style=\"text-align: right;\">\n",
       "      <th></th>\n",
       "      <th>gender</th>\n",
       "      <th>race/ethnicity</th>\n",
       "      <th>parental level of education</th>\n",
       "      <th>lunch</th>\n",
       "      <th>test preparation course</th>\n",
       "      <th>math score</th>\n",
       "      <th>reading score</th>\n",
       "      <th>writing score</th>\n",
       "      <th>total score</th>\n",
       "    </tr>\n",
       "  </thead>\n",
       "  <tbody>\n",
       "    <tr>\n",
       "      <th>gender</th>\n",
       "      <td>1.000000</td>\n",
       "      <td>-0.001502</td>\n",
       "      <td>-0.043934</td>\n",
       "      <td>-0.021372</td>\n",
       "      <td>0.006028</td>\n",
       "      <td>0.167982</td>\n",
       "      <td>-0.244313</td>\n",
       "      <td>-0.301225</td>\n",
       "      <td>-0.130861</td>\n",
       "    </tr>\n",
       "    <tr>\n",
       "      <th>race/ethnicity</th>\n",
       "      <td>-0.001502</td>\n",
       "      <td>1.000000</td>\n",
       "      <td>0.095906</td>\n",
       "      <td>-0.046563</td>\n",
       "      <td>0.017508</td>\n",
       "      <td>0.216415</td>\n",
       "      <td>0.145253</td>\n",
       "      <td>0.165691</td>\n",
       "      <td>0.185168</td>\n",
       "    </tr>\n",
       "    <tr>\n",
       "      <th>parental level of education</th>\n",
       "      <td>-0.043934</td>\n",
       "      <td>0.095906</td>\n",
       "      <td>1.000000</td>\n",
       "      <td>0.023259</td>\n",
       "      <td>-0.007143</td>\n",
       "      <td>0.159432</td>\n",
       "      <td>0.190908</td>\n",
       "      <td>0.236715</td>\n",
       "      <td>0.205785</td>\n",
       "    </tr>\n",
       "    <tr>\n",
       "      <th>lunch</th>\n",
       "      <td>-0.021372</td>\n",
       "      <td>-0.046563</td>\n",
       "      <td>0.023259</td>\n",
       "      <td>1.000000</td>\n",
       "      <td>0.017044</td>\n",
       "      <td>-0.350877</td>\n",
       "      <td>-0.229560</td>\n",
       "      <td>-0.245769</td>\n",
       "      <td>-0.290064</td>\n",
       "    </tr>\n",
       "    <tr>\n",
       "      <th>test preparation course</th>\n",
       "      <td>0.006028</td>\n",
       "      <td>0.017508</td>\n",
       "      <td>-0.007143</td>\n",
       "      <td>0.017044</td>\n",
       "      <td>1.000000</td>\n",
       "      <td>0.177702</td>\n",
       "      <td>0.241780</td>\n",
       "      <td>0.312946</td>\n",
       "      <td>0.256710</td>\n",
       "    </tr>\n",
       "    <tr>\n",
       "      <th>math score</th>\n",
       "      <td>0.167982</td>\n",
       "      <td>0.216415</td>\n",
       "      <td>0.159432</td>\n",
       "      <td>-0.350877</td>\n",
       "      <td>0.177702</td>\n",
       "      <td>1.000000</td>\n",
       "      <td>0.817580</td>\n",
       "      <td>0.802642</td>\n",
       "      <td>0.918746</td>\n",
       "    </tr>\n",
       "    <tr>\n",
       "      <th>reading score</th>\n",
       "      <td>-0.244313</td>\n",
       "      <td>0.145253</td>\n",
       "      <td>0.190908</td>\n",
       "      <td>-0.229560</td>\n",
       "      <td>0.241780</td>\n",
       "      <td>0.817580</td>\n",
       "      <td>1.000000</td>\n",
       "      <td>0.954598</td>\n",
       "      <td>0.970331</td>\n",
       "    </tr>\n",
       "    <tr>\n",
       "      <th>writing score</th>\n",
       "      <td>-0.301225</td>\n",
       "      <td>0.165691</td>\n",
       "      <td>0.236715</td>\n",
       "      <td>-0.245769</td>\n",
       "      <td>0.312946</td>\n",
       "      <td>0.802642</td>\n",
       "      <td>0.954598</td>\n",
       "      <td>1.000000</td>\n",
       "      <td>0.965667</td>\n",
       "    </tr>\n",
       "    <tr>\n",
       "      <th>total score</th>\n",
       "      <td>-0.130861</td>\n",
       "      <td>0.185168</td>\n",
       "      <td>0.205785</td>\n",
       "      <td>-0.290064</td>\n",
       "      <td>0.256710</td>\n",
       "      <td>0.918746</td>\n",
       "      <td>0.970331</td>\n",
       "      <td>0.965667</td>\n",
       "      <td>1.000000</td>\n",
       "    </tr>\n",
       "  </tbody>\n",
       "</table>\n",
       "</div>"
      ],
      "text/plain": [
       "                               gender  race/ethnicity  \\\n",
       "gender                       1.000000       -0.001502   \n",
       "race/ethnicity              -0.001502        1.000000   \n",
       "parental level of education -0.043934        0.095906   \n",
       "lunch                       -0.021372       -0.046563   \n",
       "test preparation course      0.006028        0.017508   \n",
       "math score                   0.167982        0.216415   \n",
       "reading score               -0.244313        0.145253   \n",
       "writing score               -0.301225        0.165691   \n",
       "total score                 -0.130861        0.185168   \n",
       "\n",
       "                             parental level of education     lunch  \\\n",
       "gender                                         -0.043934 -0.021372   \n",
       "race/ethnicity                                  0.095906 -0.046563   \n",
       "parental level of education                     1.000000  0.023259   \n",
       "lunch                                           0.023259  1.000000   \n",
       "test preparation course                        -0.007143  0.017044   \n",
       "math score                                      0.159432 -0.350877   \n",
       "reading score                                   0.190908 -0.229560   \n",
       "writing score                                   0.236715 -0.245769   \n",
       "total score                                     0.205785 -0.290064   \n",
       "\n",
       "                             test preparation course  math score  \\\n",
       "gender                                      0.006028    0.167982   \n",
       "race/ethnicity                              0.017508    0.216415   \n",
       "parental level of education                -0.007143    0.159432   \n",
       "lunch                                       0.017044   -0.350877   \n",
       "test preparation course                     1.000000    0.177702   \n",
       "math score                                  0.177702    1.000000   \n",
       "reading score                               0.241780    0.817580   \n",
       "writing score                               0.312946    0.802642   \n",
       "total score                                 0.256710    0.918746   \n",
       "\n",
       "                             reading score  writing score  total score  \n",
       "gender                           -0.244313      -0.301225    -0.130861  \n",
       "race/ethnicity                    0.145253       0.165691     0.185168  \n",
       "parental level of education       0.190908       0.236715     0.205785  \n",
       "lunch                            -0.229560      -0.245769    -0.290064  \n",
       "test preparation course           0.241780       0.312946     0.256710  \n",
       "math score                        0.817580       0.802642     0.918746  \n",
       "reading score                     1.000000       0.954598     0.970331  \n",
       "writing score                     0.954598       1.000000     0.965667  \n",
       "total score                       0.970331       0.965667     1.000000  "
      ]
     },
     "execution_count": 69,
     "metadata": {},
     "output_type": "execute_result"
    }
   ],
   "source": [
    "data.corr()"
   ]
  },
  {
   "cell_type": "markdown",
   "metadata": {},
   "source": [
    "### Reading score vs writing score"
   ]
  },
  {
   "cell_type": "code",
   "execution_count": 62,
   "metadata": {},
   "outputs": [],
   "source": [
    "from sklearn.model_selection import train_test_split\n",
    "from sklearn.linear_model import LinearRegression"
   ]
  },
  {
   "cell_type": "code",
   "execution_count": 82,
   "metadata": {},
   "outputs": [
    {
     "data": {
      "text/plain": [
       "Text(0.5, 1.0, 'Reading score vs Writing score')"
      ]
     },
     "execution_count": 82,
     "metadata": {},
     "output_type": "execute_result"
    },
    {
     "data": {
      "image/png": "[encoded data removed]",
      "text/plain": [
       "<Figure size 720x504 with 1 Axes>"
      ]
     },
     "metadata": {
      "needs_background": "light"
     },
     "output_type": "display_data"
    }
   ],
   "source": [
    "plt.figure(figsize=(10,7))\n",
    "plt.scatter(data[\"reading score\"], data[\"writing score\"], c=\"red\", alpha=0.5)\n",
    "plt.xlabel(\"Reading score\")\n",
    "plt.ylabel(\"Writing score\")\n",
    "plt.title(\"Reading score vs Writing score\")"
   ]
  },
  {
   "cell_type": "code",
   "execution_count": 97,
   "metadata": {},
   "outputs": [
    {
     "name": "stdout",
     "output_type": "stream",
     "text": [
      "Accurary reading-writing: 91.126\n"
     ]
    }
   ],
   "source": [
    "x = np.array(data[\"reading score\"]).reshape(-1,1)\n",
    "y = np.array(data[\"writing score\"]).reshape(-1,1)\n",
    "\n",
    "model = LinearRegression()\n",
    "model.fit(x, y)\n",
    "\n",
    "print(\"Accurary reading-writing: {:.3f}\".format(model.score(x, y)*100))"
   ]
  },
  {
   "cell_type": "markdown",
   "metadata": {},
   "source": [
    "## Math score vs reading score"
   ]
  },
  {
   "cell_type": "code",
   "execution_count": 94,
   "metadata": {},
   "outputs": [
    {
     "data": {
      "text/plain": [
       "Text(0.5, 1.0, 'Math score vs Reading score')"
      ]
     },
     "execution_count": 94,
     "metadata": {},
     "output_type": "execute_result"
    },
    {
     "data": {
      "image/png": "[encoded data removed]",
      "text/plain": [
       "<Figure size 720x504 with 1 Axes>"
      ]
     },
     "metadata": {
      "needs_background": "light"
     },
     "output_type": "display_data"
    }
   ],
   "source": [
    "plt.figure(figsize=(10,7))\n",
    "plt.scatter(data[\"math score\"], data[\"reading score\"], c=\"b\", alpha=0.5)\n",
    "plt.xlabel(\"Math score\")\n",
    "plt.ylabel(\"Reading score\")\n",
    "plt.title(\"Math score vs Reading score\")"
   ]
  },
  {
   "cell_type": "code",
   "execution_count": 98,
   "metadata": {},
   "outputs": [
    {
     "name": "stdout",
     "output_type": "stream",
     "text": [
      "Accurary math-reading: 66.844\n"
     ]
    }
   ],
   "source": [
    "x = np.array(data[\"math score\"]).reshape(-1,1)\n",
    "y = np.array(data[\"reading score\"]).reshape(-1,1)\n",
    "\n",
    "model = LinearRegression()\n",
    "model.fit(x, y)\n",
    "\n",
    "print(\"Accurary math-reading: {:.3f}\".format(model.score(x, y)*100))"
   ]
  },
  {
   "cell_type": "markdown",
   "metadata": {},
   "source": [
    "## Math score vs writing score"
   ]
  },
  {
   "cell_type": "code",
   "execution_count": 99,
   "metadata": {},
   "outputs": [
    {
     "data": {
      "text/plain": [
       "Text(0.5, 1.0, 'Math score vs Writing score')"
      ]
     },
     "execution_count": 99,
     "metadata": {},
     "output_type": "execute_result"
    },
    {
     "data": {
      "image/png": "[encoded data removed]",
      "text/plain": [
       "<Figure size 720x504 with 1 Axes>"
      ]
     },
     "metadata": {
      "needs_background": "light"
     },
     "output_type": "display_data"
    }
   ],
   "source": [
    "plt.figure(figsize=(10,7))\n",
    "plt.scatter(data[\"math score\"], data[\"writing score\"], c=\"orange\", alpha=0.5)\n",
    "plt.xlabel(\"Math score\")\n",
    "plt.ylabel(\"Writing score\")\n",
    "plt.title(\"Math score vs Writing score\")"
   ]
  },
  {
   "cell_type": "code",
   "execution_count": 101,
   "metadata": {},
   "outputs": [
    {
     "name": "stdout",
     "output_type": "stream",
     "text": [
      "Accurary math-writing: 64.423\n"
     ]
    }
   ],
   "source": [
    "x = np.array(data[\"math score\"]).reshape(-1,1)\n",
    "y = np.array(data[\"writing score\"]).reshape(-1,1)\n",
    "\n",
    "model = LinearRegression()\n",
    "model.fit(x, y)\n",
    "\n",
    "print(\"Accurary math-writing: {:.3f}\".format(model.score(x, y)*100))"
   ]
  },
  {
   "cell_type": "code",
   "execution_count": null,
   "metadata": {},
   "outputs": [],
   "source": []
  }
 ],
 "metadata": {
  "kernelspec": {
   "display_name": "Python 3",
   "language": "python",
   "name": "python3"
  },
  "language_info": {
   "codemirror_mode": {
    "name": "ipython",
    "version": 3
   },
   "file_extension": ".py",
   "mimetype": "text/x-python",
   "name": "python",
   "nbconvert_exporter": "python",
   "pygments_lexer": "ipython3",
   "version": "3.7.3"
  }
 },
 "nbformat": 4,
 "nbformat_minor": 2
}
