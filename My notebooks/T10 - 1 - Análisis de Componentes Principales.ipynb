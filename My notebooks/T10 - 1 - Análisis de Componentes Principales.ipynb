{
 "cells": [
  {
   "cell_type": "markdown",
   "metadata": {},
   "source": [
    "# Análisis de Componentes Principales - Paso a Paso"
   ]
  },
  {
   "cell_type": "markdown",
   "metadata": {},
   "source": [
    "* Estandarizar los datos (para cada una de las m observaciones).\n",
    "* Obtener los vectores y valores propios a partir de la matriz de covarianzas o de correlaciones, o ncluso la técnica de *singular vector descomposition*.\n",
    "* Ordenar los valores propios en orden descendente y quedarnos con los *p* que se correspondan a los *p* mayores, y así disminuir el número de variables del dataset (p < m).\n",
    "* Construir la matriz de proyección W a partir de los p vectores propios.\n",
    "* Transformar el dataset original X a través de W para así obtener datos en el subespacio dimensional de dimensión *p*, que será Y."
   ]
  },
  {
   "cell_type": "code",
   "execution_count": 1,
   "metadata": {},
   "outputs": [],
   "source": [
    "import pandas as pd"
   ]
  },
  {
   "cell_type": "code",
   "execution_count": 2,
   "metadata": {},
   "outputs": [
    {
     "data": {
      "text/html": [
       "<div>\n",
       "<style scoped>\n",
       "    .dataframe tbody tr th:only-of-type {\n",
       "        vertical-align: middle;\n",
       "    }\n",
       "\n",
       "    .dataframe tbody tr th {\n",
       "        vertical-align: top;\n",
       "    }\n",
       "\n",
       "    .dataframe thead th {\n",
       "        text-align: right;\n",
       "    }\n",
       "</style>\n",
       "<table border=\"1\" class=\"dataframe\">\n",
       "  <thead>\n",
       "    <tr style=\"text-align: right;\">\n",
       "      <th></th>\n",
       "      <th>Sepal.Length</th>\n",
       "      <th>Sepal.Width</th>\n",
       "      <th>Petal.Length</th>\n",
       "      <th>Petal.Width</th>\n",
       "      <th>Species</th>\n",
       "    </tr>\n",
       "  </thead>\n",
       "  <tbody>\n",
       "    <tr>\n",
       "      <th>0</th>\n",
       "      <td>5.1</td>\n",
       "      <td>3.5</td>\n",
       "      <td>1.4</td>\n",
       "      <td>0.2</td>\n",
       "      <td>setosa</td>\n",
       "    </tr>\n",
       "    <tr>\n",
       "      <th>1</th>\n",
       "      <td>4.9</td>\n",
       "      <td>3.0</td>\n",
       "      <td>1.4</td>\n",
       "      <td>0.2</td>\n",
       "      <td>setosa</td>\n",
       "    </tr>\n",
       "    <tr>\n",
       "      <th>2</th>\n",
       "      <td>4.7</td>\n",
       "      <td>3.2</td>\n",
       "      <td>1.3</td>\n",
       "      <td>0.2</td>\n",
       "      <td>setosa</td>\n",
       "    </tr>\n",
       "    <tr>\n",
       "      <th>3</th>\n",
       "      <td>4.6</td>\n",
       "      <td>3.1</td>\n",
       "      <td>1.5</td>\n",
       "      <td>0.2</td>\n",
       "      <td>setosa</td>\n",
       "    </tr>\n",
       "    <tr>\n",
       "      <th>4</th>\n",
       "      <td>5.0</td>\n",
       "      <td>3.6</td>\n",
       "      <td>1.4</td>\n",
       "      <td>0.2</td>\n",
       "      <td>setosa</td>\n",
       "    </tr>\n",
       "  </tbody>\n",
       "</table>\n",
       "</div>"
      ],
      "text/plain": [
       "   Sepal.Length  Sepal.Width  Petal.Length  Petal.Width Species\n",
       "0           5.1          3.5           1.4          0.2  setosa\n",
       "1           4.9          3.0           1.4          0.2  setosa\n",
       "2           4.7          3.2           1.3          0.2  setosa\n",
       "3           4.6          3.1           1.5          0.2  setosa\n",
       "4           5.0          3.6           1.4          0.2  setosa"
      ]
     },
     "execution_count": 2,
     "metadata": {},
     "output_type": "execute_result"
    }
   ],
   "source": [
    "df = pd.read_csv(\"../datasets/iris/iris.csv\")\n",
    "df.head()"
   ]
  },
  {
   "cell_type": "code",
   "execution_count": 4,
   "metadata": {},
   "outputs": [],
   "source": [
    "colnames = df.columns.values.tolist()\n",
    "X = df[colnames[:-1]].values\n",
    "Y = df[colnames[-1]].values"
   ]
  },
  {
   "cell_type": "code",
   "execution_count": 6,
   "metadata": {},
   "outputs": [
    {
     "data": {
      "text/plain": [
       "array([5.1, 3.5, 1.4, 0.2])"
      ]
     },
     "execution_count": 6,
     "metadata": {},
     "output_type": "execute_result"
    }
   ],
   "source": [
    "X[0]"
   ]
  },
  {
   "cell_type": "code",
   "execution_count": 8,
   "metadata": {},
   "outputs": [],
   "source": [
    "import plotly.plotly as py\n",
    "from plotly.graph_objs import *\n",
    "import plotly.tools as tls"
   ]
  },
  {
   "cell_type": "code",
   "execution_count": 15,
   "metadata": {},
   "outputs": [],
   "source": [
    "tls.set_credentials_file(username=\"DiegoGV95\", api_key=\"1TOYCdq5tcWXmxS3lxRt\")"
   ]
  },
  {
   "cell_type": "code",
   "execution_count": 18,
   "metadata": {},
   "outputs": [
    {
     "data": {
      "text/html": [
       "<iframe id=\"igraph\" scrolling=\"no\" style=\"border:none;\" seamless=\"seamless\" src=\"https://plot.ly/~DiegoGV95/4.embed\" height=\"525px\" width=\"100%\"></iframe>"
      ],
      "text/plain": [
       "<plotly.tools.PlotlyDisplay object>"
      ]
     },
     "execution_count": 18,
     "metadata": {},
     "output_type": "execute_result"
    }
   ],
   "source": [
    "traces = [] #Dibujo\n",
    "legend = {0:True, 1:True, 2:True, 3:True}\n",
    "colors = {\n",
    "    \"setosa\": \"rgb(255,127,30)\",\n",
    "    \"versicolor\": \"rgb(31,220,120)\",\n",
    "    \"virginica\": \"rgb(44,50,180)\"\n",
    "}\n",
    "\n",
    "for col in range(4):\n",
    "    for key in colors:\n",
    "        traces.append(Histogram(x=X[Y==key, col], opacity=0.7, xaxis=\"x%s\"%(col+1),\n",
    "                               marker=Marker(color=colors[key]), name=key, showlegend=legend[col]))\n",
    "    legend = {0:False, 1:False, 2:False, 3:False}\n",
    "        \n",
    "data = Data(traces) #Conjunto de datos\n",
    "layout = Layout(barmode=\"overlay\",\n",
    "               xaxis = XAxis(domain=[0,0.25], title=\"Long. Sépalos (cm)\"),\n",
    "               xaxis2 = XAxis(domain=[0.3,0.5], title=\"Anch. Sépalos (cm)\"),\n",
    "               xaxis3 = XAxis(domain=[0.55,0.75], title=\"Long. Pétalos (cm)\"),\n",
    "               xaxis4 = XAxis(domain=[0.8,1], title=\"Anch . Pétalos (cm)\"),\n",
    "               yaxis = YAxis(title=\"Número de ejemplares\"),\n",
    "               title=\"Distribución de los rasgos de las diferentes flores Iris\") #Distribución\n",
    "\n",
    "fig = Figure(data=data, layout=layout)\n",
    "py.iplot(fig)"
   ]
  },
  {
   "cell_type": "code",
   "execution_count": 19,
   "metadata": {},
   "outputs": [],
   "source": [
    "from sklearn.preprocessing import StandardScaler"
   ]
  },
  {
   "cell_type": "code",
   "execution_count": 20,
   "metadata": {},
   "outputs": [],
   "source": [
    "X_std = StandardScaler().fit_transform(X)"
   ]
  },
  {
   "cell_type": "code",
   "execution_count": 22,
   "metadata": {},
   "outputs": [
    {
     "data": {
      "text/html": [
       "<iframe id=\"igraph\" scrolling=\"no\" style=\"border:none;\" seamless=\"seamless\" src=\"https://plot.ly/~DiegoGV95/6.embed\" height=\"525px\" width=\"100%\"></iframe>"
      ],
      "text/plain": [
       "<plotly.tools.PlotlyDisplay object>"
      ]
     },
     "execution_count": 22,
     "metadata": {},
     "output_type": "execute_result"
    }
   ],
   "source": [
    "traces = [] #Dibujo\n",
    "legend = {0:True, 1:True, 2:True, 3:True}\n",
    "colors = {\n",
    "    \"setosa\": \"rgb(255,127,30)\",\n",
    "    \"versicolor\": \"rgb(31,220,120)\",\n",
    "    \"virginica\": \"rgb(44,50,180)\"\n",
    "}\n",
    "\n",
    "for col in range(4):\n",
    "    for key in colors:\n",
    "        traces.append(Histogram(x=X_std[Y==key, col], opacity=0.7, xaxis=\"x%s\"%(col+1),\n",
    "                               marker=Marker(color=colors[key]), name=key, showlegend=legend[col]))\n",
    "    legend = {0:False, 1:False, 2:False, 3:False}\n",
    "        \n",
    "data = Data(traces) #Conjunto de datos\n",
    "layout = Layout(barmode=\"overlay\",\n",
    "               xaxis = XAxis(domain=[0,0.25], title=\"Long. Sépalos (cm)\"),\n",
    "               xaxis2 = XAxis(domain=[0.3,0.5], title=\"Anch. Sépalos (cm)\"),\n",
    "               xaxis3 = XAxis(domain=[0.55,0.75], title=\"Long. Pétalos (cm)\"),\n",
    "               xaxis4 = XAxis(domain=[0.8,1], title=\"Anch . Pétalos (cm)\"),\n",
    "               yaxis = YAxis(title=\"Número de ejemplares\"),\n",
    "               title=\"Distribución de los rasgos de las diferentes flores Iris\") #Distribución\n",
    "\n",
    "fig = Figure(data=data, layout=layout)\n",
    "py.iplot(fig)"
   ]
  },
  {
   "cell_type": "code",
   "execution_count": null,
   "metadata": {},
   "outputs": [],
   "source": []
  }
 ],
 "metadata": {
  "kernelspec": {
   "display_name": "Python 3",
   "language": "python",
   "name": "python3"
  },
  "language_info": {
   "codemirror_mode": {
    "name": "ipython",
    "version": 3
   },
   "file_extension": ".py",
   "mimetype": "text/x-python",
   "name": "python",
   "nbconvert_exporter": "python",
   "pygments_lexer": "ipython3",
   "version": "3.7.2"
  }
 },
 "nbformat": 4,
 "nbformat_minor": 2
}
