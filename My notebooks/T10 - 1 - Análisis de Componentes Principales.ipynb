{
 "cells": [
  {
   "cell_type": "markdown",
   "metadata": {},
   "source": [
    "# Análisis de Componentes Principales - Paso a Paso"
   ]
  },
  {
   "cell_type": "markdown",
   "metadata": {},
   "source": [
    "* Estandarizar los datos (para cada una de las m observaciones).\n",
    "* Obtener los vectores y valores propios a partir de la matriz de covarianzas o de correlaciones, o ncluso la técnica de *singular vector descomposition*.\n",
    "* Ordenar los valores propios en orden descendente y quedarnos con los *p* que se correspondan a los *p* mayores, y así disminuir el número de variables del dataset (p < m).\n",
    "* Construir la matriz de proyección W a partir de los p vectores propios.\n",
    "* Transformar el dataset original X a través de W para así obtener datos en el subespacio dimensional de dimensión *p*, que será Y."
   ]
  },
  {
   "cell_type": "code",
   "execution_count": 1,
   "metadata": {},
   "outputs": [],
   "source": [
    "import pandas as pd"
   ]
  },
  {
   "cell_type": "code",
   "execution_count": 2,
   "metadata": {},
   "outputs": [
    {
     "data": {
      "text/html": [
       "<div>\n",
       "<style scoped>\n",
       "    .dataframe tbody tr th:only-of-type {\n",
       "        vertical-align: middle;\n",
       "    }\n",
       "\n",
       "    .dataframe tbody tr th {\n",
       "        vertical-align: top;\n",
       "    }\n",
       "\n",
       "    .dataframe thead th {\n",
       "        text-align: right;\n",
       "    }\n",
       "</style>\n",
       "<table border=\"1\" class=\"dataframe\">\n",
       "  <thead>\n",
       "    <tr style=\"text-align: right;\">\n",
       "      <th></th>\n",
       "      <th>Sepal.Length</th>\n",
       "      <th>Sepal.Width</th>\n",
       "      <th>Petal.Length</th>\n",
       "      <th>Petal.Width</th>\n",
       "      <th>Species</th>\n",
       "    </tr>\n",
       "  </thead>\n",
       "  <tbody>\n",
       "    <tr>\n",
       "      <th>0</th>\n",
       "      <td>5.1</td>\n",
       "      <td>3.5</td>\n",
       "      <td>1.4</td>\n",
       "      <td>0.2</td>\n",
       "      <td>setosa</td>\n",
       "    </tr>\n",
       "    <tr>\n",
       "      <th>1</th>\n",
       "      <td>4.9</td>\n",
       "      <td>3.0</td>\n",
       "      <td>1.4</td>\n",
       "      <td>0.2</td>\n",
       "      <td>setosa</td>\n",
       "    </tr>\n",
       "    <tr>\n",
       "      <th>2</th>\n",
       "      <td>4.7</td>\n",
       "      <td>3.2</td>\n",
       "      <td>1.3</td>\n",
       "      <td>0.2</td>\n",
       "      <td>setosa</td>\n",
       "    </tr>\n",
       "    <tr>\n",
       "      <th>3</th>\n",
       "      <td>4.6</td>\n",
       "      <td>3.1</td>\n",
       "      <td>1.5</td>\n",
       "      <td>0.2</td>\n",
       "      <td>setosa</td>\n",
       "    </tr>\n",
       "    <tr>\n",
       "      <th>4</th>\n",
       "      <td>5.0</td>\n",
       "      <td>3.6</td>\n",
       "      <td>1.4</td>\n",
       "      <td>0.2</td>\n",
       "      <td>setosa</td>\n",
       "    </tr>\n",
       "  </tbody>\n",
       "</table>\n",
       "</div>"
      ],
      "text/plain": [
       "   Sepal.Length  Sepal.Width  Petal.Length  Petal.Width Species\n",
       "0           5.1          3.5           1.4          0.2  setosa\n",
       "1           4.9          3.0           1.4          0.2  setosa\n",
       "2           4.7          3.2           1.3          0.2  setosa\n",
       "3           4.6          3.1           1.5          0.2  setosa\n",
       "4           5.0          3.6           1.4          0.2  setosa"
      ]
     },
     "execution_count": 2,
     "metadata": {},
     "output_type": "execute_result"
    }
   ],
   "source": [
    "df = pd.read_csv(\"../datasets/iris/iris.csv\")\n",
    "df.head()"
   ]
  },
  {
   "cell_type": "code",
   "execution_count": 60,
   "metadata": {},
   "outputs": [],
   "source": [
    "colnames = df.columns.values.tolist()\n",
    "X = df[colnames[:-1]].values\n",
    "y = df[colnames[-1]].values"
   ]
  },
  {
   "cell_type": "code",
   "execution_count": 4,
   "metadata": {},
   "outputs": [
    {
     "data": {
      "text/plain": [
       "array([5.1, 3.5, 1.4, 0.2])"
      ]
     },
     "execution_count": 4,
     "metadata": {},
     "output_type": "execute_result"
    }
   ],
   "source": [
    "X[0]"
   ]
  },
  {
   "cell_type": "code",
   "execution_count": 5,
   "metadata": {},
   "outputs": [],
   "source": [
    "import plotly.plotly as py\n",
    "from plotly.graph_objs import *\n",
    "import plotly.tools as tls"
   ]
  },
  {
   "cell_type": "code",
   "execution_count": 6,
   "metadata": {},
   "outputs": [],
   "source": [
    "tls.set_credentials_file(username=\"DiegoGV95\", api_key=\"1TOYCdq5tcWXmxS3lxRt\")"
   ]
  },
  {
   "cell_type": "code",
   "execution_count": 8,
   "metadata": {},
   "outputs": [
    {
     "name": "stderr",
     "output_type": "stream",
     "text": [
      "/anaconda3/lib/python3.7/site-packages/plotly/graph_objs/_deprecations.py:426: DeprecationWarning:\n",
      "\n",
      "plotly.graph_objs.Marker is deprecated.\n",
      "Please replace it with one of the following more specific types\n",
      "  - plotly.graph_objs.scatter.Marker\n",
      "  - plotly.graph_objs.histogram.selected.Marker\n",
      "  - etc.\n",
      "\n",
      "\n",
      "/anaconda3/lib/python3.7/site-packages/plotly/graph_objs/_deprecations.py:39: DeprecationWarning:\n",
      "\n",
      "plotly.graph_objs.Data is deprecated.\n",
      "Please replace it with a list or tuple of instances of the following types\n",
      "  - plotly.graph_objs.Scatter\n",
      "  - plotly.graph_objs.Bar\n",
      "  - plotly.graph_objs.Area\n",
      "  - plotly.graph_objs.Histogram\n",
      "  - etc.\n",
      "\n",
      "\n",
      "/anaconda3/lib/python3.7/site-packages/plotly/graph_objs/_deprecations.py:531: DeprecationWarning:\n",
      "\n",
      "plotly.graph_objs.XAxis is deprecated.\n",
      "Please replace it with one of the following more specific types\n",
      "  - plotly.graph_objs.layout.XAxis\n",
      "  - plotly.graph_objs.layout.scene.XAxis\n",
      "\n",
      "\n",
      "/anaconda3/lib/python3.7/site-packages/plotly/graph_objs/_deprecations.py:558: DeprecationWarning:\n",
      "\n",
      "plotly.graph_objs.YAxis is deprecated.\n",
      "Please replace it with one of the following more specific types\n",
      "  - plotly.graph_objs.layout.YAxis\n",
      "  - plotly.graph_objs.layout.scene.YAxis\n",
      "\n",
      "\n"
     ]
    },
    {
     "data": {
      "text/html": [
       "<iframe id=\"igraph\" scrolling=\"no\" style=\"border:none;\" seamless=\"seamless\" src=\"https://plot.ly/~DiegoGV95/10.embed\" height=\"525px\" width=\"100%\"></iframe>"
      ],
      "text/plain": [
       "<plotly.tools.PlotlyDisplay object>"
      ]
     },
     "execution_count": 8,
     "metadata": {},
     "output_type": "execute_result"
    }
   ],
   "source": [
    "traces = [] #Dibujo\n",
    "legend = {0:True, 1:True, 2:True, 3:True}\n",
    "colors = {\n",
    "    \"setosa\": \"rgb(255,127,30)\",\n",
    "    \"versicolor\": \"rgb(31,220,120)\",\n",
    "    \"virginica\": \"rgb(44,50,180)\"\n",
    "}\n",
    "\n",
    "for col in range(4):\n",
    "    for key in colors:\n",
    "        traces.append(Histogram(x=X[Y==key, col], opacity=0.7, xaxis=\"x%s\"%(col+1),\n",
    "                               marker=Marker(color=colors[key]), name=key, showlegend=legend[col]))\n",
    "    legend = {0:False, 1:False, 2:False, 3:False}\n",
    "        \n",
    "data = Data(traces) #Conjunto de datos\n",
    "layout = Layout(barmode=\"overlay\",\n",
    "               xaxis = XAxis(domain=[0,0.25], title=\"Long. Sépalos (cm)\"),\n",
    "               xaxis2 = XAxis(domain=[0.3,0.5], title=\"Anch. Sépalos (cm)\"),\n",
    "               xaxis3 = XAxis(domain=[0.55,0.75], title=\"Long. Pétalos (cm)\"),\n",
    "               xaxis4 = XAxis(domain=[0.8,1], title=\"Anch . Pétalos (cm)\"),\n",
    "               yaxis = YAxis(title=\"Número de ejemplares\"),\n",
    "               title=\"Distribución de los rasgos de las diferentes flores Iris\") #Distribución\n",
    "\n",
    "fig = Figure(data=data, layout=layout)\n",
    "py.iplot(fig)"
   ]
  },
  {
   "cell_type": "code",
   "execution_count": 11,
   "metadata": {},
   "outputs": [],
   "source": [
    "from sklearn.preprocessing import StandardScaler"
   ]
  },
  {
   "cell_type": "code",
   "execution_count": 12,
   "metadata": {},
   "outputs": [],
   "source": [
    "X_std = StandardScaler().fit_transform(X)"
   ]
  },
  {
   "cell_type": "code",
   "execution_count": 13,
   "metadata": {},
   "outputs": [
    {
     "name": "stderr",
     "output_type": "stream",
     "text": [
      "/anaconda3/lib/python3.7/site-packages/plotly/graph_objs/_deprecations.py:426: DeprecationWarning:\n",
      "\n",
      "plotly.graph_objs.Marker is deprecated.\n",
      "Please replace it with one of the following more specific types\n",
      "  - plotly.graph_objs.scatter.Marker\n",
      "  - plotly.graph_objs.histogram.selected.Marker\n",
      "  - etc.\n",
      "\n",
      "\n",
      "/anaconda3/lib/python3.7/site-packages/plotly/graph_objs/_deprecations.py:39: DeprecationWarning:\n",
      "\n",
      "plotly.graph_objs.Data is deprecated.\n",
      "Please replace it with a list or tuple of instances of the following types\n",
      "  - plotly.graph_objs.Scatter\n",
      "  - plotly.graph_objs.Bar\n",
      "  - plotly.graph_objs.Area\n",
      "  - plotly.graph_objs.Histogram\n",
      "  - etc.\n",
      "\n",
      "\n",
      "/anaconda3/lib/python3.7/site-packages/plotly/graph_objs/_deprecations.py:531: DeprecationWarning:\n",
      "\n",
      "plotly.graph_objs.XAxis is deprecated.\n",
      "Please replace it with one of the following more specific types\n",
      "  - plotly.graph_objs.layout.XAxis\n",
      "  - plotly.graph_objs.layout.scene.XAxis\n",
      "\n",
      "\n",
      "/anaconda3/lib/python3.7/site-packages/plotly/graph_objs/_deprecations.py:558: DeprecationWarning:\n",
      "\n",
      "plotly.graph_objs.YAxis is deprecated.\n",
      "Please replace it with one of the following more specific types\n",
      "  - plotly.graph_objs.layout.YAxis\n",
      "  - plotly.graph_objs.layout.scene.YAxis\n",
      "\n",
      "\n"
     ]
    },
    {
     "data": {
      "text/html": [
       "<iframe id=\"igraph\" scrolling=\"no\" style=\"border:none;\" seamless=\"seamless\" src=\"https://plot.ly/~DiegoGV95/12.embed\" height=\"525px\" width=\"100%\"></iframe>"
      ],
      "text/plain": [
       "<plotly.tools.PlotlyDisplay object>"
      ]
     },
     "execution_count": 13,
     "metadata": {},
     "output_type": "execute_result"
    }
   ],
   "source": [
    "traces = [] #Dibujo\n",
    "legend = {0:True, 1:True, 2:True, 3:True}\n",
    "colors = {\n",
    "    \"setosa\": \"rgb(255,127,30)\",\n",
    "    \"versicolor\": \"rgb(31,220,120)\",\n",
    "    \"virginica\": \"rgb(44,50,180)\"\n",
    "}\n",
    "\n",
    "for col in range(4):\n",
    "    for key in colors:\n",
    "        traces.append(Histogram(x=X_std[Y==key, col], opacity=0.7, xaxis=\"x%s\"%(col+1),\n",
    "                               marker=Marker(color=colors[key]), name=key, showlegend=legend[col]))\n",
    "    legend = {0:False, 1:False, 2:False, 3:False}\n",
    "        \n",
    "data = Data(traces) #Conjunto de datos\n",
    "layout = Layout(barmode=\"overlay\",\n",
    "               xaxis = XAxis(domain=[0,0.25], title=\"Long. Sépalos (cm)\"),\n",
    "               xaxis2 = XAxis(domain=[0.3,0.5], title=\"Anch. Sépalos (cm)\"),\n",
    "               xaxis3 = XAxis(domain=[0.55,0.75], title=\"Long. Pétalos (cm)\"),\n",
    "               xaxis4 = XAxis(domain=[0.8,1], title=\"Anch . Pétalos (cm)\"),\n",
    "               yaxis = YAxis(title=\"Número de ejemplares\"),\n",
    "               title=\"Distribución de los rasgos de las diferentes flores Iris\") #Distribución\n",
    "\n",
    "fig = Figure(data=data, layout=layout)\n",
    "py.iplot(fig)"
   ]
  },
  {
   "cell_type": "markdown",
   "metadata": {},
   "source": [
    "### 1 - Calculamos la descomposición de valores y vectores propios\n",
    "##### a) Usando la Matriz de Covarianzas"
   ]
  },
  {
   "cell_type": "code",
   "execution_count": null,
   "metadata": {},
   "outputs": [],
   "source": [
    "from IPython.display import display, Math, Latex"
   ]
  },
  {
   "cell_type": "code",
   "execution_count": 16,
   "metadata": {},
   "outputs": [
    {
     "data": {
      "text/latex": [
       "$$\\sigma_{jk} = \\frac{1}{n-1}\\sum{i=1}^m (x_{ij} - \\overline{x_j})(x_{ik} - \\overline{x_k})$$"
      ],
      "text/plain": [
       "<IPython.core.display.Math object>"
      ]
     },
     "metadata": {},
     "output_type": "display_data"
    }
   ],
   "source": [
    "display(Math(r\"\\sigma_{jk} = \\frac{1}{n-1}\\sum{i=1}^m (x_{ij} - \\overline{x_j})(x_{ik} - \\overline{x_k})\"))"
   ]
  },
  {
   "cell_type": "code",
   "execution_count": 17,
   "metadata": {},
   "outputs": [
    {
     "data": {
      "text/latex": [
       "$$\\Sigma = \\frac{1}{n-1}((X-\\overline{x})^T(X-\\overline{x}))$$"
      ],
      "text/plain": [
       "<IPython.core.display.Math object>"
      ]
     },
     "metadata": {},
     "output_type": "display_data"
    }
   ],
   "source": [
    "display(Math(r\"\\Sigma = \\frac{1}{n-1}((X-\\overline{x})^T(X-\\overline{x}))\"))"
   ]
  },
  {
   "cell_type": "code",
   "execution_count": 18,
   "metadata": {},
   "outputs": [
    {
     "data": {
      "text/latex": [
       "$$\\overline{x} = \\sum{i=1}^n x_i \\in \\mathbb R^m$$"
      ],
      "text/plain": [
       "<IPython.core.display.Math object>"
      ]
     },
     "metadata": {},
     "output_type": "display_data"
    }
   ],
   "source": [
    "display(Math(r\"\\overline{x} = \\sum{i=1}^n x_i \\in \\mathbb R^m\"))"
   ]
  },
  {
   "cell_type": "code",
   "execution_count": 19,
   "metadata": {},
   "outputs": [],
   "source": [
    "import numpy as np"
   ]
  },
  {
   "cell_type": "code",
   "execution_count": 22,
   "metadata": {},
   "outputs": [
    {
     "data": {
      "text/plain": [
       "array([-4.73695157e-16, -7.81597009e-16, -4.26325641e-16, -4.73695157e-16])"
      ]
     },
     "execution_count": 22,
     "metadata": {},
     "output_type": "execute_result"
    }
   ],
   "source": [
    "mean_vect = np.mean(X_std, axis=0)\n",
    "mean_vect"
   ]
  },
  {
   "cell_type": "code",
   "execution_count": 26,
   "metadata": {},
   "outputs": [
    {
     "name": "stdout",
     "output_type": "stream",
     "text": [
      "La matriz de covarianzas es:\n",
      "\n",
      "[[ 1.         -0.11756978  0.87175378  0.81794113]\n",
      " [-0.11756978  1.         -0.4284401  -0.36612593]\n",
      " [ 0.87175378 -0.4284401   1.          0.96286543]\n",
      " [ 0.81794113 -0.36612593  0.96286543  1.        ]]\n"
     ]
    }
   ],
   "source": [
    "#Matriz de covarianzas\n",
    "cov_matrix = (X_std - mean_vect).T.dot((X_std - mean_vect)/X_std.shape[0]-1)\n",
    "print(\"La matriz de covarianzas es:\\n\\n{}\".format(cov_matrix))"
   ]
  },
  {
   "cell_type": "code",
   "execution_count": 28,
   "metadata": {},
   "outputs": [
    {
     "data": {
      "text/plain": [
       "array([[ 1.00671141, -0.11835884,  0.87760447,  0.82343066],\n",
       "       [-0.11835884,  1.00671141, -0.43131554, -0.36858315],\n",
       "       [ 0.87760447, -0.43131554,  1.00671141,  0.96932762],\n",
       "       [ 0.82343066, -0.36858315,  0.96932762,  1.00671141]])"
      ]
     },
     "execution_count": 28,
     "metadata": {},
     "output_type": "execute_result"
    }
   ],
   "source": [
    "#Matriz de covarianzas directamente con numpy\n",
    "np.cov(X_std.T)"
   ]
  },
  {
   "cell_type": "code",
   "execution_count": 29,
   "metadata": {},
   "outputs": [
    {
     "name": "stdout",
     "output_type": "stream",
     "text": [
      "Valores propios:\n",
      "[2.91849782 0.91403047 0.14675688 0.02071484]\n",
      "Vectores propios:\n",
      "[[ 0.52106591 -0.37741762 -0.71956635  0.26128628]\n",
      " [-0.26934744 -0.92329566  0.24438178 -0.12350962]\n",
      " [ 0.5804131  -0.02449161  0.14212637 -0.80144925]\n",
      " [ 0.56485654 -0.06694199  0.63427274  0.52359713]]\n"
     ]
    }
   ],
   "source": [
    "#Valores propios y vectores propios\n",
    "eig_values, eig_vectors = np.linalg.eig(cov_matrix)\n",
    "print(\"Valores propios:\\n{}\".format(eig_values))\n",
    "print(\"Vectores propios:\\n{}\".format(eig_vectors))"
   ]
  },
  {
   "cell_type": "markdown",
   "metadata": {},
   "source": [
    "##### b) Usando la Matriz de Correlaciones"
   ]
  },
  {
   "cell_type": "code",
   "execution_count": 30,
   "metadata": {},
   "outputs": [
    {
     "data": {
      "text/plain": [
       "array([[ 1.        , -0.11756978,  0.87175378,  0.81794113],\n",
       "       [-0.11756978,  1.        , -0.4284401 , -0.36612593],\n",
       "       [ 0.87175378, -0.4284401 ,  1.        ,  0.96286543],\n",
       "       [ 0.81794113, -0.36612593,  0.96286543,  1.        ]])"
      ]
     },
     "execution_count": 30,
     "metadata": {},
     "output_type": "execute_result"
    }
   ],
   "source": [
    "corr_matrix = np.corrcoef(X_std.T)\n",
    "corr_matrix"
   ]
  },
  {
   "cell_type": "code",
   "execution_count": 31,
   "metadata": {},
   "outputs": [
    {
     "name": "stdout",
     "output_type": "stream",
     "text": [
      "Valores propios:\n",
      "[2.91849782 0.91403047 0.14675688 0.02071484]\n",
      "Vectores propios:\n",
      "[[ 0.52106591 -0.37741762 -0.71956635  0.26128628]\n",
      " [-0.26934744 -0.92329566  0.24438178 -0.12350962]\n",
      " [ 0.5804131  -0.02449161  0.14212637 -0.80144925]\n",
      " [ 0.56485654 -0.06694199  0.63427274  0.52359713]]\n"
     ]
    }
   ],
   "source": [
    "eig_values_corr, eig_vectors_corr = np.linalg.eig(corr_matrix)\n",
    "print(\"Valores propios:\\n{}\".format(eig_values_corr))\n",
    "print(\"Vectores propios:\\n{}\".format(eig_vectors_corr))"
   ]
  },
  {
   "cell_type": "code",
   "execution_count": 32,
   "metadata": {},
   "outputs": [
    {
     "data": {
      "text/plain": [
       "array([[ 1.        , -0.11756978,  0.87175378,  0.81794113],\n",
       "       [-0.11756978,  1.        , -0.4284401 , -0.36612593],\n",
       "       [ 0.87175378, -0.4284401 ,  1.        ,  0.96286543],\n",
       "       [ 0.81794113, -0.36612593,  0.96286543,  1.        ]])"
      ]
     },
     "execution_count": 32,
     "metadata": {},
     "output_type": "execute_result"
    }
   ],
   "source": [
    "corr_matrix = np.corrcoef(X.T)\n",
    "corr_matrix"
   ]
  },
  {
   "cell_type": "markdown",
   "metadata": {},
   "source": [
    "##### c) Singular Value Decomposition"
   ]
  },
  {
   "cell_type": "code",
   "execution_count": 34,
   "metadata": {},
   "outputs": [
    {
     "data": {
      "text/plain": [
       "array([[-0.52106591, -0.37741762,  0.71956635,  0.26128628],\n",
       "       [ 0.26934744, -0.92329566, -0.24438178, -0.12350962],\n",
       "       [-0.5804131 , -0.02449161, -0.14212637, -0.80144925],\n",
       "       [-0.56485654, -0.06694199, -0.63427274,  0.52359713]])"
      ]
     },
     "execution_count": 34,
     "metadata": {},
     "output_type": "execute_result"
    }
   ],
   "source": [
    "u, s, v = np.linalg.svd(X_std.T)\n",
    "u #Matriz de vectores propios"
   ]
  },
  {
   "cell_type": "code",
   "execution_count": 35,
   "metadata": {},
   "outputs": [
    {
     "data": {
      "text/plain": [
       "array([20.92306556, 11.7091661 ,  4.69185798,  1.76273239])"
      ]
     },
     "execution_count": 35,
     "metadata": {},
     "output_type": "execute_result"
    }
   ],
   "source": [
    "s"
   ]
  },
  {
   "cell_type": "markdown",
   "metadata": {},
   "source": [
    "### 2 - Las componentes principales"
   ]
  },
  {
   "cell_type": "code",
   "execution_count": 37,
   "metadata": {},
   "outputs": [
    {
     "name": "stdout",
     "output_type": "stream",
     "text": [
      "La longitud del VP es: 1.0000000000000846\n",
      "La longitud del VP es: 1.0000000000000049\n",
      "La longitud del VP es: 1.0000000000000422\n",
      "La longitud del VP es: 0.9999999999998683\n"
     ]
    }
   ],
   "source": [
    "for ev in eig_vectors:\n",
    "    print(\"La longitud del VP es: {}\".format(np.linalg.norm(ev)))"
   ]
  },
  {
   "cell_type": "code",
   "execution_count": 40,
   "metadata": {},
   "outputs": [
    {
     "data": {
      "text/plain": [
       "[(2.9184978165319424,\n",
       "  array([ 0.52106591, -0.26934744,  0.5804131 ,  0.56485654])),\n",
       " (0.9140304714680618,\n",
       "  array([-0.37741762, -0.92329566, -0.02449161, -0.06694199])),\n",
       " (0.14675687557129835,\n",
       "  array([-0.71956635,  0.24438178,  0.14212637,  0.63427274])),\n",
       " (0.02071483642864015,\n",
       "  array([ 0.26128628, -0.12350962, -0.80144925,  0.52359713]))]"
      ]
     },
     "execution_count": 40,
     "metadata": {},
     "output_type": "execute_result"
    }
   ],
   "source": [
    "eigen_pairs = [(np.abs(eig_values[i]), eig_vectors[:,i]) for i in range(len(eig_values))]\n",
    "eigen_pairs"
   ]
  },
  {
   "cell_type": "markdown",
   "metadata": {},
   "source": [
    "Ordenamos los vectores propios con valor propio de mayor a menor"
   ]
  },
  {
   "cell_type": "code",
   "execution_count": 42,
   "metadata": {},
   "outputs": [
    {
     "data": {
      "text/plain": [
       "[(2.9184978165319424,\n",
       "  array([ 0.52106591, -0.26934744,  0.5804131 ,  0.56485654])),\n",
       " (0.9140304714680618,\n",
       "  array([-0.37741762, -0.92329566, -0.02449161, -0.06694199])),\n",
       " (0.14675687557129835,\n",
       "  array([-0.71956635,  0.24438178,  0.14212637,  0.63427274])),\n",
       " (0.02071483642864015,\n",
       "  array([ 0.26128628, -0.12350962, -0.80144925,  0.52359713]))]"
      ]
     },
     "execution_count": 42,
     "metadata": {},
     "output_type": "execute_result"
    }
   ],
   "source": [
    "eigen_pairs.sort()\n",
    "eigen_pairs.reverse()\n",
    "eigen_pairs"
   ]
  },
  {
   "cell_type": "code",
   "execution_count": 43,
   "metadata": {},
   "outputs": [
    {
     "name": "stdout",
     "output_type": "stream",
     "text": [
      "Valores propios en orden descendente:\n",
      "2.9184978165319424\n",
      "0.9140304714680618\n",
      "0.14675687557129835\n",
      "0.02071483642864015\n"
     ]
    }
   ],
   "source": [
    "print(\"Valores propios en orden descendente:\")\n",
    "for ep in eigen_pairs:\n",
    "    print(ep[0])"
   ]
  },
  {
   "cell_type": "code",
   "execution_count": 48,
   "metadata": {},
   "outputs": [],
   "source": [
    "total_sum = sum(eig_values)\n",
    "var_exp = [(i/total_sum)*100 for i in sorted(eig_values, reverse=True)]\n",
    "cum_var_exp = np.cumsum(var_exp) #Suma acumulada de la varianza"
   ]
  },
  {
   "cell_type": "code",
   "execution_count": 47,
   "metadata": {},
   "outputs": [
    {
     "data": {
      "text/plain": [
       "[72.9624454132996, 22.850761786701874, 3.6689218892825117, 0.5178709107160112]"
      ]
     },
     "execution_count": 47,
     "metadata": {},
     "output_type": "execute_result"
    }
   ],
   "source": [
    "var_exp"
   ]
  },
  {
   "cell_type": "code",
   "execution_count": 49,
   "metadata": {},
   "outputs": [
    {
     "data": {
      "text/plain": [
       "array([ 72.96244541,  95.8132072 ,  99.48212909, 100.        ])"
      ]
     },
     "execution_count": 49,
     "metadata": {},
     "output_type": "execute_result"
    }
   ],
   "source": [
    "cum_var_exp"
   ]
  },
  {
   "cell_type": "code",
   "execution_count": 52,
   "metadata": {},
   "outputs": [
    {
     "name": "stderr",
     "output_type": "stream",
     "text": [
      "/anaconda3/lib/python3.7/site-packages/plotly/graph_objs/_deprecations.py:39: DeprecationWarning:\n",
      "\n",
      "plotly.graph_objs.Data is deprecated.\n",
      "Please replace it with a list or tuple of instances of the following types\n",
      "  - plotly.graph_objs.Scatter\n",
      "  - plotly.graph_objs.Bar\n",
      "  - plotly.graph_objs.Area\n",
      "  - plotly.graph_objs.Histogram\n",
      "  - etc.\n",
      "\n",
      "\n",
      "/anaconda3/lib/python3.7/site-packages/plotly/graph_objs/_deprecations.py:531: DeprecationWarning:\n",
      "\n",
      "plotly.graph_objs.XAxis is deprecated.\n",
      "Please replace it with one of the following more specific types\n",
      "  - plotly.graph_objs.layout.XAxis\n",
      "  - plotly.graph_objs.layout.scene.XAxis\n",
      "\n",
      "\n",
      "/anaconda3/lib/python3.7/site-packages/plotly/graph_objs/_deprecations.py:558: DeprecationWarning:\n",
      "\n",
      "plotly.graph_objs.YAxis is deprecated.\n",
      "Please replace it with one of the following more specific types\n",
      "  - plotly.graph_objs.layout.YAxis\n",
      "  - plotly.graph_objs.layout.scene.YAxis\n",
      "\n",
      "\n"
     ]
    },
    {
     "data": {
      "text/html": [
       "<iframe id=\"igraph\" scrolling=\"no\" style=\"border:none;\" seamless=\"seamless\" src=\"https://plot.ly/~DiegoGV95/14.embed\" height=\"525px\" width=\"100%\"></iframe>"
      ],
      "text/plain": [
       "<plotly.tools.PlotlyDisplay object>"
      ]
     },
     "execution_count": 52,
     "metadata": {},
     "output_type": "execute_result"
    }
   ],
   "source": [
    "plot1 = Bar(x=[\"CP {}\".format(i) for i in range(1,5)], y=var_exp, showlegend=False)\n",
    "plot2 = Scatter(x=[\"CP {}\".format(i) for i in range(1,5)], y=cum_var_exp, showlegend=True, name=\"% de Varianza Explicada Acumulada\")\n",
    "\n",
    "data = Data([plot1, plot2])\n",
    "\n",
    "layout = Layout(xaxis=XAxis(title=\"Componentes principales\"),\n",
    "               yaxis = YAxis(title=\"Porcentaje de varianza explicada\"),\n",
    "               title = \"Porcentaje de variabilidad explicada por cada componentes principal\")\n",
    "\n",
    "fig = Figure(data=data, layout=layout)\n",
    "py.iplot(fig)"
   ]
  },
  {
   "cell_type": "code",
   "execution_count": 53,
   "metadata": {},
   "outputs": [
    {
     "data": {
      "text/plain": [
       "array([[ 0.52106591, -0.37741762],\n",
       "       [-0.26934744, -0.92329566],\n",
       "       [ 0.5804131 , -0.02449161],\n",
       "       [ 0.56485654, -0.06694199]])"
      ]
     },
     "execution_count": 53,
     "metadata": {},
     "output_type": "execute_result"
    }
   ],
   "source": [
    "W = np.hstack((eigen_pairs[0][1].reshape(4,1),\n",
    "              eigen_pairs[1][1].reshape(4,1))) #Coloca uno debajo de otro\n",
    "W"
   ]
  },
  {
   "cell_type": "markdown",
   "metadata": {},
   "source": [
    "### 3 - Proyectando las variables en el nuevo subespacio vectorial"
   ]
  },
  {
   "cell_type": "code",
   "execution_count": 57,
   "metadata": {},
   "outputs": [
    {
     "data": {
      "text/latex": [
       "$$Y = X \\cdot W, X \\in M(\\mathbb R)_{150,4}, W \\in M(\\mathbb R)_{4,2}, Y \\in M(\\mathbb R)_{150,2}$$"
      ],
      "text/plain": [
       "<IPython.core.display.Math object>"
      ]
     },
     "metadata": {},
     "output_type": "display_data"
    }
   ],
   "source": [
    "display(Math(r\"Y = X \\cdot W, X \\in M(\\mathbb R)_{150,4}, W \\in M(\\mathbb R)_{4,2}, Y \\in M(\\mathbb R)_{150,2}\"))"
   ]
  },
  {
   "cell_type": "code",
   "execution_count": 58,
   "metadata": {},
   "outputs": [],
   "source": [
    "Y = X_std.dot(W)"
   ]
  },
  {
   "cell_type": "code",
   "execution_count": 63,
   "metadata": {},
   "outputs": [
    {
     "name": "stderr",
     "output_type": "stream",
     "text": [
      "/anaconda3/lib/python3.7/site-packages/plotly/graph_objs/_deprecations.py:372: DeprecationWarning:\n",
      "\n",
      "plotly.graph_objs.Line is deprecated.\n",
      "Please replace it with one of the following more specific types\n",
      "  - plotly.graph_objs.scatter.Line\n",
      "  - plotly.graph_objs.layout.shape.Line\n",
      "  - etc.\n",
      "\n",
      "\n",
      "/anaconda3/lib/python3.7/site-packages/plotly/graph_objs/_deprecations.py:426: DeprecationWarning:\n",
      "\n",
      "plotly.graph_objs.Marker is deprecated.\n",
      "Please replace it with one of the following more specific types\n",
      "  - plotly.graph_objs.scatter.Marker\n",
      "  - plotly.graph_objs.histogram.selected.Marker\n",
      "  - etc.\n",
      "\n",
      "\n",
      "/anaconda3/lib/python3.7/site-packages/plotly/graph_objs/_deprecations.py:39: DeprecationWarning:\n",
      "\n",
      "plotly.graph_objs.Data is deprecated.\n",
      "Please replace it with a list or tuple of instances of the following types\n",
      "  - plotly.graph_objs.Scatter\n",
      "  - plotly.graph_objs.Bar\n",
      "  - plotly.graph_objs.Area\n",
      "  - plotly.graph_objs.Histogram\n",
      "  - etc.\n",
      "\n",
      "\n",
      "/anaconda3/lib/python3.7/site-packages/plotly/graph_objs/_deprecations.py:531: DeprecationWarning:\n",
      "\n",
      "plotly.graph_objs.XAxis is deprecated.\n",
      "Please replace it with one of the following more specific types\n",
      "  - plotly.graph_objs.layout.XAxis\n",
      "  - plotly.graph_objs.layout.scene.XAxis\n",
      "\n",
      "\n",
      "/anaconda3/lib/python3.7/site-packages/plotly/graph_objs/_deprecations.py:558: DeprecationWarning:\n",
      "\n",
      "plotly.graph_objs.YAxis is deprecated.\n",
      "Please replace it with one of the following more specific types\n",
      "  - plotly.graph_objs.layout.YAxis\n",
      "  - plotly.graph_objs.layout.scene.YAxis\n",
      "\n",
      "\n",
      "/anaconda3/lib/python3.7/site-packages/plotly/graph_objs/_deprecations.py:477: DeprecationWarning:\n",
      "\n",
      "plotly.graph_objs.Scene is deprecated.\n",
      "Please replace it with one of the following more specific types\n",
      "  - plotly.graph_objs.Scene\n",
      "\n",
      "\n"
     ]
    },
    {
     "data": {
      "text/html": [
       "<iframe id=\"igraph\" scrolling=\"no\" style=\"border:none;\" seamless=\"seamless\" src=\"https://plot.ly/~DiegoGV95/18.embed\" height=\"525px\" width=\"100%\"></iframe>"
      ],
      "text/plain": [
       "<plotly.tools.PlotlyDisplay object>"
      ]
     },
     "execution_count": 63,
     "metadata": {},
     "output_type": "execute_result"
    }
   ],
   "source": [
    "results = []\n",
    "\n",
    "for name in (\"setosa\", \"versicolor\", \"virginica\"):\n",
    "    result = Scatter(x=Y[y==name, 0], y=Y[y==name,1], mode=\"markers\", name=name, \n",
    "                     marker=Marker(size=12, line=Line(color=\"rgba(220,220,220,0.15)\", width=0.5),\n",
    "                                  opacity=0.8))\n",
    "    results.append(result)\n",
    "    \n",
    "data = Data(results)\n",
    "layout = Layout(showlegend=True, scene=Scene(xaxis=XAxis(title=\"Componente Principal 1\"),\n",
    "                                             yaxis=YAxis(title=\"Componente Principal 2\")))\n",
    "fig = Figure(data=data, layout=layout)\n",
    "py.iplot(fig)"
   ]
  },
  {
   "cell_type": "code",
   "execution_count": null,
   "metadata": {},
   "outputs": [],
   "source": []
  }
 ],
 "metadata": {
  "kernelspec": {
   "display_name": "Python 3",
   "language": "python",
   "name": "python3"
  },
  "language_info": {
   "codemirror_mode": {
    "name": "ipython",
    "version": 3
   },
   "file_extension": ".py",
   "mimetype": "text/x-python",
   "name": "python",
   "nbconvert_exporter": "python",
   "pygments_lexer": "ipython3",
   "version": "3.7.2"
  }
 },
 "nbformat": 4,
 "nbformat_minor": 2
}
