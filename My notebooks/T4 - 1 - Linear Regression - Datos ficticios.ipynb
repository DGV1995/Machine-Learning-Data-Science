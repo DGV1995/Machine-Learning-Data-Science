{
 "cells": [
  {
   "cell_type": "markdown",
   "metadata": {},
   "source": [
    "# Modelos de Regresión Lineal\n",
    "## Modelo con datos simulados\n",
    "* y = a + b * x\n",
    "* X : 100 valores distribuidos según una N(1.5, 2.5)\n",
    "* Ye = 8 + 2.0 * x + e\n",
    "* e estará distribuida según una N(0, 0.8)"
   ]
  },
  {
   "cell_type": "code",
   "execution_count": 1,
   "metadata": {},
   "outputs": [],
   "source": [
    "import pandas as pd\n",
    "import numpy as np\n",
    "import matplotlib.pyplot as plt"
   ]
  },
  {
   "cell_type": "code",
   "execution_count": 2,
   "metadata": {},
   "outputs": [],
   "source": [
    "x = 1.5 + 2.5*np.random.randn(100)"
   ]
  },
  {
   "cell_type": "code",
   "execution_count": 3,
   "metadata": {},
   "outputs": [],
   "source": [
    "#Residuos\n",
    "res = 0 + 0.8*np.random.randn(100)"
   ]
  },
  {
   "cell_type": "code",
   "execution_count": 4,
   "metadata": {},
   "outputs": [],
   "source": [
    "y_pred = 8 + 2.0*x"
   ]
  },
  {
   "cell_type": "code",
   "execution_count": 5,
   "metadata": {},
   "outputs": [],
   "source": [
    "y_act = 8 + 2.0*x + res"
   ]
  },
  {
   "cell_type": "code",
   "execution_count": 6,
   "metadata": {},
   "outputs": [],
   "source": [
    "x_list = x.tolist()\n",
    "y_pred_list = y_pred.tolist()\n",
    "y_act_list = y_act.tolist()"
   ]
  },
  {
   "cell_type": "code",
   "execution_count": 7,
   "metadata": {},
   "outputs": [],
   "source": [
    "data = pd.DataFrame(\n",
    "    {\n",
    "        \"x\":x_list,\n",
    "        \"y_actual\":y_act_list,\n",
    "        \"y_prediccion\":y_pred_list\n",
    "    }\n",
    ")"
   ]
  },
  {
   "cell_type": "code",
   "execution_count": 8,
   "metadata": {},
   "outputs": [
    {
     "data": {
      "text/html": [
       "<div>\n",
       "<style scoped>\n",
       "    .dataframe tbody tr th:only-of-type {\n",
       "        vertical-align: middle;\n",
       "    }\n",
       "\n",
       "    .dataframe tbody tr th {\n",
       "        vertical-align: top;\n",
       "    }\n",
       "\n",
       "    .dataframe thead th {\n",
       "        text-align: right;\n",
       "    }\n",
       "</style>\n",
       "<table border=\"1\" class=\"dataframe\">\n",
       "  <thead>\n",
       "    <tr style=\"text-align: right;\">\n",
       "      <th></th>\n",
       "      <th>x</th>\n",
       "      <th>y_actual</th>\n",
       "      <th>y_prediccion</th>\n",
       "    </tr>\n",
       "  </thead>\n",
       "  <tbody>\n",
       "    <tr>\n",
       "      <th>0</th>\n",
       "      <td>3.960046</td>\n",
       "      <td>14.886840</td>\n",
       "      <td>15.920093</td>\n",
       "    </tr>\n",
       "    <tr>\n",
       "      <th>1</th>\n",
       "      <td>0.179282</td>\n",
       "      <td>7.639375</td>\n",
       "      <td>8.358563</td>\n",
       "    </tr>\n",
       "    <tr>\n",
       "      <th>2</th>\n",
       "      <td>3.055286</td>\n",
       "      <td>15.051577</td>\n",
       "      <td>14.110573</td>\n",
       "    </tr>\n",
       "    <tr>\n",
       "      <th>3</th>\n",
       "      <td>-1.746960</td>\n",
       "      <td>4.298839</td>\n",
       "      <td>4.506081</td>\n",
       "    </tr>\n",
       "    <tr>\n",
       "      <th>4</th>\n",
       "      <td>2.637057</td>\n",
       "      <td>13.290815</td>\n",
       "      <td>13.274113</td>\n",
       "    </tr>\n",
       "  </tbody>\n",
       "</table>\n",
       "</div>"
      ],
      "text/plain": [
       "          x   y_actual  y_prediccion\n",
       "0  3.960046  14.886840     15.920093\n",
       "1  0.179282   7.639375      8.358563\n",
       "2  3.055286  15.051577     14.110573\n",
       "3 -1.746960   4.298839      4.506081\n",
       "4  2.637057  13.290815     13.274113"
      ]
     },
     "execution_count": 8,
     "metadata": {},
     "output_type": "execute_result"
    }
   ],
   "source": [
    "data.head()"
   ]
  },
  {
   "cell_type": "code",
   "execution_count": 9,
   "metadata": {},
   "outputs": [],
   "source": [
    "y_mean = [np.mean(y_act) for i in range(1,len(x_list) + 1)]"
   ]
  },
  {
   "cell_type": "code",
   "execution_count": 10,
   "metadata": {},
   "outputs": [],
   "source": [
    "%matplotlib inline"
   ]
  },
  {
   "cell_type": "code",
   "execution_count": 11,
   "metadata": {},
   "outputs": [
    {
     "data": {
      "text/plain": [
       "Text(0.5,1,'Valor Actual vs Predicción')"
      ]
     },
     "execution_count": 11,
     "metadata": {},
     "output_type": "execute_result"
    },
    {
     "data": {
      "image/png": "[encoded data removed]",
      "text/plain": [
       "<Figure size 432x288 with 1 Axes>"
      ]
     },
     "metadata": {
      "needs_background": "light"
     },
     "output_type": "display_data"
    }
   ],
   "source": [
    "plt.plot(x,y_pred) #Color azul\n",
    "plt.plot(x,y_act, \"ro\") #Color rojo\n",
    "plt.plot(x,y_mean, \"g\") #Color verde\n",
    "plt.title(\"Valor Actual vs Predicción\")"
   ]
  },
  {
   "cell_type": "code",
   "execution_count": 12,
   "metadata": {},
   "outputs": [],
   "source": [
    "data[\"SSR\"] = (data[\"y_prediccion\"] - np.mean(y_act))**2\n",
    "data[\"SSD\"] = (data[\"y_prediccion\"] - data[\"y_actual\"])**2\n",
    "data[\"SST\"] = (data[\"y_actual\"] - np.mean(y_act))**2"
   ]
  },
  {
   "cell_type": "code",
   "execution_count": 13,
   "metadata": {},
   "outputs": [
    {
     "data": {
      "text/html": [
       "<div>\n",
       "<style scoped>\n",
       "    .dataframe tbody tr th:only-of-type {\n",
       "        vertical-align: middle;\n",
       "    }\n",
       "\n",
       "    .dataframe tbody tr th {\n",
       "        vertical-align: top;\n",
       "    }\n",
       "\n",
       "    .dataframe thead th {\n",
       "        text-align: right;\n",
       "    }\n",
       "</style>\n",
       "<table border=\"1\" class=\"dataframe\">\n",
       "  <thead>\n",
       "    <tr style=\"text-align: right;\">\n",
       "      <th></th>\n",
       "      <th>x</th>\n",
       "      <th>y_actual</th>\n",
       "      <th>y_prediccion</th>\n",
       "      <th>SSR</th>\n",
       "      <th>SSD</th>\n",
       "      <th>SST</th>\n",
       "    </tr>\n",
       "  </thead>\n",
       "  <tbody>\n",
       "    <tr>\n",
       "      <th>0</th>\n",
       "      <td>3.960046</td>\n",
       "      <td>14.886840</td>\n",
       "      <td>15.920093</td>\n",
       "      <td>27.130919</td>\n",
       "      <td>1.067610</td>\n",
       "      <td>17.434657</td>\n",
       "    </tr>\n",
       "    <tr>\n",
       "      <th>1</th>\n",
       "      <td>0.179282</td>\n",
       "      <td>7.639375</td>\n",
       "      <td>8.358563</td>\n",
       "      <td>5.535641</td>\n",
       "      <td>0.517232</td>\n",
       "      <td>9.437080</td>\n",
       "    </tr>\n",
       "    <tr>\n",
       "      <th>2</th>\n",
       "      <td>3.055286</td>\n",
       "      <td>15.051577</td>\n",
       "      <td>14.110573</td>\n",
       "      <td>11.554663</td>\n",
       "      <td>0.885489</td>\n",
       "      <td>18.837502</td>\n",
       "    </tr>\n",
       "    <tr>\n",
       "      <th>3</th>\n",
       "      <td>-1.746960</td>\n",
       "      <td>4.298839</td>\n",
       "      <td>4.506081</td>\n",
       "      <td>38.505462</td>\n",
       "      <td>0.042949</td>\n",
       "      <td>41.120400</td>\n",
       "    </tr>\n",
       "    <tr>\n",
       "      <th>4</th>\n",
       "      <td>2.637057</td>\n",
       "      <td>13.290815</td>\n",
       "      <td>13.274113</td>\n",
       "      <td>6.567717</td>\n",
       "      <td>0.000279</td>\n",
       "      <td>6.653599</td>\n",
       "    </tr>\n",
       "  </tbody>\n",
       "</table>\n",
       "</div>"
      ],
      "text/plain": [
       "          x   y_actual  y_prediccion        SSR       SSD        SST\n",
       "0  3.960046  14.886840     15.920093  27.130919  1.067610  17.434657\n",
       "1  0.179282   7.639375      8.358563   5.535641  0.517232   9.437080\n",
       "2  3.055286  15.051577     14.110573  11.554663  0.885489  18.837502\n",
       "3 -1.746960   4.298839      4.506081  38.505462  0.042949  41.120400\n",
       "4  2.637057  13.290815     13.274113   6.567717  0.000279   6.653599"
      ]
     },
     "execution_count": 13,
     "metadata": {},
     "output_type": "execute_result"
    }
   ],
   "source": [
    "data.head()"
   ]
  },
  {
   "cell_type": "code",
   "execution_count": 14,
   "metadata": {},
   "outputs": [],
   "source": [
    "SSR = sum(data[\"SSR\"])\n",
    "SSD = sum(data[\"SSD\"])\n",
    "SST = sum(data[\"SST\"])"
   ]
  },
  {
   "cell_type": "code",
   "execution_count": 15,
   "metadata": {},
   "outputs": [
    {
     "data": {
      "text/plain": [
       "2051.073645882812"
      ]
     },
     "execution_count": 15,
     "metadata": {},
     "output_type": "execute_result"
    }
   ],
   "source": [
    "SSR"
   ]
  },
  {
   "cell_type": "code",
   "execution_count": 16,
   "metadata": {},
   "outputs": [
    {
     "data": {
      "text/plain": [
       "55.77167098336149"
      ]
     },
     "execution_count": 16,
     "metadata": {},
     "output_type": "execute_result"
    }
   ],
   "source": [
    "SSD"
   ]
  },
  {
   "cell_type": "code",
   "execution_count": 17,
   "metadata": {},
   "outputs": [
    {
     "data": {
      "text/plain": [
       "2179.5884258450096"
      ]
     },
     "execution_count": 17,
     "metadata": {},
     "output_type": "execute_result"
    }
   ],
   "source": [
    "SST"
   ]
  },
  {
   "cell_type": "code",
   "execution_count": 18,
   "metadata": {},
   "outputs": [
    {
     "data": {
      "text/plain": [
       "2106.8453168661736"
      ]
     },
     "execution_count": 18,
     "metadata": {},
     "output_type": "execute_result"
    }
   ],
   "source": [
    "SSR + SSD"
   ]
  },
  {
   "cell_type": "code",
   "execution_count": 19,
   "metadata": {},
   "outputs": [],
   "source": [
    "R2 = SSR/SST"
   ]
  },
  {
   "cell_type": "code",
   "execution_count": 20,
   "metadata": {},
   "outputs": [
    {
     "data": {
      "text/plain": [
       "0.9410371341495936"
      ]
     },
     "execution_count": 20,
     "metadata": {},
     "output_type": "execute_result"
    }
   ],
   "source": [
    "R2"
   ]
  },
  {
   "cell_type": "code",
   "execution_count": 21,
   "metadata": {},
   "outputs": [
    {
     "data": {
      "text/plain": [
       "(array([49., 17.,  4., 13.,  4.,  6.,  2.,  2.,  1.,  2.]),\n",
       " array([5.95312588e-12, 2.75543566e-01, 5.51087132e-01, 8.26630699e-01,\n",
       "        1.10217426e+00, 1.37771783e+00, 1.65326140e+00, 1.92880496e+00,\n",
       "        2.20434853e+00, 2.47989210e+00, 2.75543566e+00]),\n",
       " <a list of 10 Patch objects>)"
      ]
     },
     "execution_count": 21,
     "metadata": {},
     "output_type": "execute_result"
    },
    {
     "data": {
      "image/png": "[encoded data removed]",
      "text/plain": [
       "<Figure size 432x288 with 1 Axes>"
      ]
     },
     "metadata": {
      "needs_background": "light"
     },
     "output_type": "display_data"
    }
   ],
   "source": [
    "plt.hist(data[\"SSD\"])"
   ]
  },
  {
   "cell_type": "code",
   "execution_count": 22,
   "metadata": {},
   "outputs": [
    {
     "data": {
      "text/plain": [
       "(array([ 3.,  6., 13., 13., 17., 15., 13.,  8., 10.,  2.]),\n",
       " array([-1.6599505 , -1.33259767, -1.00524483, -0.677892  , -0.35053916,\n",
       "        -0.02318633,  0.3041665 ,  0.63151934,  0.95887217,  1.286225  ,\n",
       "         1.61357784]),\n",
       " <a list of 10 Patch objects>)"
      ]
     },
     "execution_count": 22,
     "metadata": {},
     "output_type": "execute_result"
    },
    {
     "data": {
      "image/png": "[encoded data removed]",
      "text/plain": [
       "<Figure size 432x288 with 1 Axes>"
      ]
     },
     "metadata": {
      "needs_background": "light"
     },
     "output_type": "display_data"
    }
   ],
   "source": [
    "plt.hist(data[\"y_prediccion\"] - data[\"y_actual\"])"
   ]
  },
  {
   "cell_type": "markdown",
   "metadata": {},
   "source": [
    "## Obteniendo la recta de regresión\n",
    "\n",
    "* y = a + b * x\n",
    "* b = sum((x_i - x_m)*(y_i - y_m))/sum((x_i - x_m)^2)\n",
    "* a = y_m - b * x_m"
   ]
  },
  {
   "cell_type": "code",
   "execution_count": 23,
   "metadata": {},
   "outputs": [
    {
     "data": {
      "text/plain": [
       "(1.3388305274801986, 10.711357671813259)"
      ]
     },
     "execution_count": 23,
     "metadata": {},
     "output_type": "execute_result"
    }
   ],
   "source": [
    "x_mean = np.mean(data[\"x\"])\n",
    "y_mean = np.mean(data[\"y_actual\"])\n",
    "x_mean, y_mean"
   ]
  },
  {
   "cell_type": "code",
   "execution_count": 29,
   "metadata": {},
   "outputs": [],
   "source": [
    "data[\"beta_n\"] = (data[\"x\"]-x_mean)*(data[\"y_actual\"]-y_mean)\n",
    "data[\"beta_d\"] = (data[\"x\"]-x_mean)**2"
   ]
  },
  {
   "cell_type": "code",
   "execution_count": 31,
   "metadata": {},
   "outputs": [],
   "source": [
    "beta = sum(data[\"beta_n\"])/sum(data[\"beta_d\"])"
   ]
  },
  {
   "cell_type": "code",
   "execution_count": 32,
   "metadata": {},
   "outputs": [],
   "source": [
    "alpha = y_mean - beta*x_mean"
   ]
  },
  {
   "cell_type": "code",
   "execution_count": 33,
   "metadata": {},
   "outputs": [
    {
     "data": {
      "text/plain": [
       "(7.986062958248769, 2.035578557275463)"
      ]
     },
     "execution_count": 33,
     "metadata": {},
     "output_type": "execute_result"
    }
   ],
   "source": [
    "alpha, beta"
   ]
  },
  {
   "cell_type": "markdown",
   "metadata": {},
   "source": [
    "El modelo lineal obtenido por regresión es: y =  7.986062958248769 + 2.035578557275463 * x"
   ]
  },
  {
   "cell_type": "code",
   "execution_count": 34,
   "metadata": {},
   "outputs": [],
   "source": [
    "data[\"y_model\"] = alpha + beta*data[\"x\"]"
   ]
  },
  {
   "cell_type": "code",
   "execution_count": 35,
   "metadata": {},
   "outputs": [
    {
     "data": {
      "text/html": [
       "<div>\n",
       "<style scoped>\n",
       "    .dataframe tbody tr th:only-of-type {\n",
       "        vertical-align: middle;\n",
       "    }\n",
       "\n",
       "    .dataframe tbody tr th {\n",
       "        vertical-align: top;\n",
       "    }\n",
       "\n",
       "    .dataframe thead th {\n",
       "        text-align: right;\n",
       "    }\n",
       "</style>\n",
       "<table border=\"1\" class=\"dataframe\">\n",
       "  <thead>\n",
       "    <tr style=\"text-align: right;\">\n",
       "      <th></th>\n",
       "      <th>x</th>\n",
       "      <th>y_actual</th>\n",
       "      <th>y_prediccion</th>\n",
       "      <th>SSR</th>\n",
       "      <th>SSD</th>\n",
       "      <th>SST</th>\n",
       "      <th>beta_num</th>\n",
       "      <th>beta_n</th>\n",
       "      <th>beta_d</th>\n",
       "      <th>y_model</th>\n",
       "    </tr>\n",
       "  </thead>\n",
       "  <tbody>\n",
       "    <tr>\n",
       "      <th>0</th>\n",
       "      <td>3.960046</td>\n",
       "      <td>14.886840</td>\n",
       "      <td>15.920093</td>\n",
       "      <td>27.130919</td>\n",
       "      <td>1.067610</td>\n",
       "      <td>17.434657</td>\n",
       "      <td>2.035579</td>\n",
       "      <td>10.944841</td>\n",
       "      <td>6.870772</td>\n",
       "      <td>16.047048</td>\n",
       "    </tr>\n",
       "    <tr>\n",
       "      <th>1</th>\n",
       "      <td>0.179282</td>\n",
       "      <td>7.639375</td>\n",
       "      <td>8.358563</td>\n",
       "      <td>5.535641</td>\n",
       "      <td>0.517232</td>\n",
       "      <td>9.437080</td>\n",
       "      <td>2.035579</td>\n",
       "      <td>3.562114</td>\n",
       "      <td>1.344554</td>\n",
       "      <td>8.351005</td>\n",
       "    </tr>\n",
       "    <tr>\n",
       "      <th>2</th>\n",
       "      <td>3.055286</td>\n",
       "      <td>15.051577</td>\n",
       "      <td>14.110573</td>\n",
       "      <td>11.554663</td>\n",
       "      <td>0.885489</td>\n",
       "      <td>18.837502</td>\n",
       "      <td>2.035579</td>\n",
       "      <td>7.449794</td>\n",
       "      <td>2.946221</td>\n",
       "      <td>14.205338</td>\n",
       "    </tr>\n",
       "    <tr>\n",
       "      <th>3</th>\n",
       "      <td>-1.746960</td>\n",
       "      <td>4.298839</td>\n",
       "      <td>4.506081</td>\n",
       "      <td>38.505462</td>\n",
       "      <td>0.042949</td>\n",
       "      <td>41.120400</td>\n",
       "      <td>2.035579</td>\n",
       "      <td>19.787688</td>\n",
       "      <td>9.522101</td>\n",
       "      <td>4.429989</td>\n",
       "    </tr>\n",
       "    <tr>\n",
       "      <th>4</th>\n",
       "      <td>2.637057</td>\n",
       "      <td>13.290815</td>\n",
       "      <td>13.274113</td>\n",
       "      <td>6.567717</td>\n",
       "      <td>0.000279</td>\n",
       "      <td>6.653599</td>\n",
       "      <td>2.035579</td>\n",
       "      <td>3.348719</td>\n",
       "      <td>1.685391</td>\n",
       "      <td>13.353999</td>\n",
       "    </tr>\n",
       "  </tbody>\n",
       "</table>\n",
       "</div>"
      ],
      "text/plain": [
       "          x   y_actual  y_prediccion        SSR       SSD        SST  \\\n",
       "0  3.960046  14.886840     15.920093  27.130919  1.067610  17.434657   \n",
       "1  0.179282   7.639375      8.358563   5.535641  0.517232   9.437080   \n",
       "2  3.055286  15.051577     14.110573  11.554663  0.885489  18.837502   \n",
       "3 -1.746960   4.298839      4.506081  38.505462  0.042949  41.120400   \n",
       "4  2.637057  13.290815     13.274113   6.567717  0.000279   6.653599   \n",
       "\n",
       "   beta_num     beta_n    beta_d    y_model  \n",
       "0  2.035579  10.944841  6.870772  16.047048  \n",
       "1  2.035579   3.562114  1.344554   8.351005  \n",
       "2  2.035579   7.449794  2.946221  14.205338  \n",
       "3  2.035579  19.787688  9.522101   4.429989  \n",
       "4  2.035579   3.348719  1.685391  13.353999  "
      ]
     },
     "execution_count": 35,
     "metadata": {},
     "output_type": "execute_result"
    }
   ],
   "source": [
    "data.head()"
   ]
  },
  {
   "cell_type": "code",
   "execution_count": 36,
   "metadata": {},
   "outputs": [],
   "source": [
    "SSR = sum((data[\"y_model\"]-y_mean)**2) #Suma de los cuadrados de la regresión\n",
    "SSD = sum((data[\"y_model\"]-data[\"y_actual\"])**2) #Suma de los cuadrados de la diferencia\n",
    "SST = sum((data[\"y_actual\"]-y_mean)**2) #Suma de los cuadrados totales"
   ]
  },
  {
   "cell_type": "code",
   "execution_count": 37,
   "metadata": {},
   "outputs": [
    {
     "data": {
      "text/plain": [
       "(2124.579344682646, 55.009081162361454, 2179.5884258450096)"
      ]
     },
     "execution_count": 37,
     "metadata": {},
     "output_type": "execute_result"
    }
   ],
   "source": [
    "SSR, SSD, SST"
   ]
  },
  {
   "cell_type": "code",
   "execution_count": 39,
   "metadata": {},
   "outputs": [
    {
     "data": {
      "text/plain": [
       "0.9747617116561642"
      ]
     },
     "execution_count": 39,
     "metadata": {},
     "output_type": "execute_result"
    }
   ],
   "source": [
    "R2 = SSR/SST #R cuadrado\n",
    "R2"
   ]
  },
  {
   "cell_type": "code",
   "execution_count": 42,
   "metadata": {},
   "outputs": [],
   "source": [
    "y_mean = [np.mean(y_act) for i in range(1,len(x_list) + 1)]"
   ]
  },
  {
   "cell_type": "code",
   "execution_count": 43,
   "metadata": {},
   "outputs": [
    {
     "data": {
      "text/plain": [
       "Text(0.5,1,'Valor Actual vs Predicción')"
      ]
     },
     "execution_count": 43,
     "metadata": {},
     "output_type": "execute_result"
    },
    {
     "data": {
      "image/png": "[encoded data removed]",
      "text/plain": [
       "<Figure size 432x288 with 1 Axes>"
      ]
     },
     "metadata": {
      "needs_background": "light"
     },
     "output_type": "display_data"
    }
   ],
   "source": [
    "%matplotlib inline\n",
    "plt.plot(x,y_pred) #Color azul\n",
    "plt.plot(x,y_act, \"ro\") #Color rojo\n",
    "plt.plot(x,y_mean, \"g\") #Color verde\n",
    "plt.plot(data[\"x\"], data[\"y_model\"])\n",
    "plt.title(\"Valor Actual vs Predicción\")"
   ]
  },
  {
   "cell_type": "markdown",
   "metadata": {},
   "source": [
    "## Error estándar de los residuos (RSE)"
   ]
  },
  {
   "cell_type": "code",
   "execution_count": 46,
   "metadata": {},
   "outputs": [
    {
     "data": {
      "text/plain": [
       "0.7492110214872536"
      ]
     },
     "execution_count": 46,
     "metadata": {},
     "output_type": "execute_result"
    }
   ],
   "source": [
    "RSE = np.sqrt(SSD/(len(data)-2))\n",
    "RSE"
   ]
  },
  {
   "cell_type": "code",
   "execution_count": 47,
   "metadata": {},
   "outputs": [
    {
     "data": {
      "text/plain": [
       "10.711357671813259"
      ]
     },
     "execution_count": 47,
     "metadata": {},
     "output_type": "execute_result"
    }
   ],
   "source": [
    "np.mean(data[\"y_actual\"])"
   ]
  },
  {
   "cell_type": "code",
   "execution_count": 48,
   "metadata": {},
   "outputs": [
    {
     "data": {
      "text/plain": [
       "0.06994547698269742"
      ]
     },
     "execution_count": 48,
     "metadata": {},
     "output_type": "execute_result"
    }
   ],
   "source": [
    "RSE/np.mean(data[\"y_actual\"])"
   ]
  },
  {
   "cell_type": "code",
   "execution_count": null,
   "metadata": {},
   "outputs": [],
   "source": []
  }
 ],
 "metadata": {
  "kernelspec": {
   "display_name": "Python 3",
   "language": "python",
   "name": "python3"
  },
  "language_info": {
   "codemirror_mode": {
    "name": "ipython",
    "version": 3
   },
   "file_extension": ".py",
   "mimetype": "text/x-python",
   "name": "python",
   "nbconvert_exporter": "python",
   "pygments_lexer": "ipython3",
   "version": "3.7.0"
  }
 },
 "nbformat": 4,
 "nbformat_minor": 2
}
