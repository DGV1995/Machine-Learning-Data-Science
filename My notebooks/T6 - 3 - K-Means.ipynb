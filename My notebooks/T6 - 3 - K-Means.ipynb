{
 "cells": [
  {
   "cell_type": "markdown",
   "metadata": {},
   "source": [
    "# El método de k-means"
   ]
  },
  {
   "cell_type": "code",
   "execution_count": 3,
   "metadata": {},
   "outputs": [],
   "source": [
    "import numpy as np\n",
    "import pandas as pd"
   ]
  },
  {
   "cell_type": "code",
   "execution_count": 5,
   "metadata": {},
   "outputs": [
    {
     "data": {
      "text/plain": [
       "array([[0.07236174, 0.949764  , 0.15393883],\n",
       "       [0.97283662, 0.2847066 , 0.34920495],\n",
       "       [0.54608246, 0.30382516, 0.6948351 ],\n",
       "       [0.93359073, 0.07372862, 0.92095259],\n",
       "       [0.94930575, 0.79213933, 0.66084221],\n",
       "       [0.89313985, 0.44915995, 0.89686356],\n",
       "       [0.22153177, 0.96495664, 0.17707337],\n",
       "       [0.76604699, 0.90859502, 0.50623775],\n",
       "       [0.05808873, 0.71741686, 0.26974925],\n",
       "       [0.15368309, 0.05042747, 0.11854935],\n",
       "       [0.09823746, 0.62846257, 0.03494873],\n",
       "       [0.71585988, 0.56882682, 0.2419654 ],\n",
       "       [0.77472337, 0.50745239, 0.11654146],\n",
       "       [0.18597824, 0.51557088, 0.15855749],\n",
       "       [0.13031282, 0.79999747, 0.14057391],\n",
       "       [0.36627076, 0.59676753, 0.00365955],\n",
       "       [0.13858909, 0.73226246, 0.93871698],\n",
       "       [0.28235475, 0.44081791, 0.44710555],\n",
       "       [0.67801838, 0.30937444, 0.79740528],\n",
       "       [0.42000377, 0.1057822 , 0.97734697],\n",
       "       [0.48412629, 0.93736889, 0.8933974 ],\n",
       "       [0.20704104, 0.25498347, 0.28848301],\n",
       "       [0.80045746, 0.74467197, 0.71752533],\n",
       "       [0.3899447 , 0.74725514, 0.7023733 ],\n",
       "       [0.16301538, 0.20486335, 0.80994736],\n",
       "       [0.97272308, 0.04760705, 0.73611145],\n",
       "       [0.48532397, 0.3013121 , 0.6213052 ],\n",
       "       [0.45945266, 0.62894764, 0.60609267],\n",
       "       [0.34427367, 0.2127872 , 0.31500141],\n",
       "       [0.38754136, 0.7665612 , 0.58354986]])"
      ]
     },
     "execution_count": 5,
     "metadata": {},
     "output_type": "execute_result"
    }
   ],
   "source": [
    "data = np.random.random(90).reshape(30,3) #30 filas y 3 columnas\n",
    "data"
   ]
  },
  {
   "cell_type": "code",
   "execution_count": 6,
   "metadata": {},
   "outputs": [
    {
     "data": {
      "text/plain": [
       "array([[0.54608246, 0.30382516, 0.6948351 ],\n",
       "       [0.38754136, 0.7665612 , 0.58354986]])"
      ]
     },
     "execution_count": 6,
     "metadata": {},
     "output_type": "execute_result"
    }
   ],
   "source": [
    "#Elijo dos elementos al azar entre los que componen data como centroide de los clusters\n",
    "c1 = np.random.choice(range(len(data)))\n",
    "c2 = np.random.choice(range(len(data)))\n",
    "clust_centers = np.vstack([data[c1],data[c2]])\n",
    "clust_centers"
   ]
  },
  {
   "cell_type": "code",
   "execution_count": 7,
   "metadata": {},
   "outputs": [],
   "source": [
    "from scipy.cluster.vq import vq"
   ]
  },
  {
   "cell_type": "code",
   "execution_count": 8,
   "metadata": {},
   "outputs": [
    {
     "data": {
      "text/plain": [
       "(array([1, 0, 0, 0, 1, 0, 1, 1, 1, 0, 1, 1, 0, 1, 1, 1, 1, 1, 0, 0, 1, 0,\n",
       "        1, 1, 0, 0, 0, 1, 0, 1], dtype=int32),\n",
       " array([0.56344218, 0.54949507, 0.        , 0.50421841, 0.56763332,\n",
       "        0.42706736, 0.48181228, 0.4116033 , 0.45762979, 0.74181732,\n",
       "        0.63539844, 0.51339252, 0.65434261, 0.53314383, 0.51333439,\n",
       "        0.60461152, 0.43508312, 0.3684969 , 0.16720802, 0.36732793,\n",
       "        0.36675525, 0.53146648, 0.4346588 , 0.12040561, 0.41204934,\n",
       "        0.49937329, 0.09541779, 0.15689776, 0.43964568, 0.        ]))"
      ]
     },
     "execution_count": 8,
     "metadata": {},
     "output_type": "execute_result"
    }
   ],
   "source": [
    "vq(data, clust_centers)"
   ]
  },
  {
   "cell_type": "code",
   "execution_count": 9,
   "metadata": {},
   "outputs": [],
   "source": [
    "from scipy.cluster.vq import kmeans"
   ]
  },
  {
   "cell_type": "code",
   "execution_count": 11,
   "metadata": {},
   "outputs": [
    {
     "data": {
      "text/plain": [
       "(array([[0.56414434, 0.21654647, 0.62716719],\n",
       "        [0.40451021, 0.71932415, 0.40849161]]), 0.40899986360517826)"
      ]
     },
     "execution_count": 11,
     "metadata": {},
     "output_type": "execute_result"
    }
   ],
   "source": [
    "kmeans(data, clust_centers) #Nos da la información de los baricentros"
   ]
  },
  {
   "cell_type": "code",
   "execution_count": null,
   "metadata": {},
   "outputs": [],
   "source": []
  }
 ],
 "metadata": {
  "kernelspec": {
   "display_name": "Python 3",
   "language": "python",
   "name": "python3"
  },
  "language_info": {
   "codemirror_mode": {
    "name": "ipython",
    "version": 3
   },
   "file_extension": ".py",
   "mimetype": "text/x-python",
   "name": "python",
   "nbconvert_exporter": "python",
   "pygments_lexer": "ipython3",
   "version": "3.7.0"
  }
 },
 "nbformat": 4,
 "nbformat_minor": 2
}
