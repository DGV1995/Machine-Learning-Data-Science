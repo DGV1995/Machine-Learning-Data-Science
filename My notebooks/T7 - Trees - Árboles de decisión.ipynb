{
 "cells": [
  {
   "cell_type": "markdown",
   "metadata": {},
   "source": [
    "# Árbol de decisión para especies de flores"
   ]
  },
  {
   "cell_type": "code",
   "execution_count": 5,
   "metadata": {},
   "outputs": [],
   "source": [
    "import pandas as pd\n",
    "import matplotlib.pyplot as plt"
   ]
  },
  {
   "cell_type": "code",
   "execution_count": 44,
   "metadata": {},
   "outputs": [
    {
     "data": {
      "text/html": [
       "<div>\n",
       "<style scoped>\n",
       "    .dataframe tbody tr th:only-of-type {\n",
       "        vertical-align: middle;\n",
       "    }\n",
       "\n",
       "    .dataframe tbody tr th {\n",
       "        vertical-align: top;\n",
       "    }\n",
       "\n",
       "    .dataframe thead th {\n",
       "        text-align: right;\n",
       "    }\n",
       "</style>\n",
       "<table border=\"1\" class=\"dataframe\">\n",
       "  <thead>\n",
       "    <tr style=\"text-align: right;\">\n",
       "      <th></th>\n",
       "      <th>Sepal.Length</th>\n",
       "      <th>Sepal.Width</th>\n",
       "      <th>Petal.Length</th>\n",
       "      <th>Petal.Width</th>\n",
       "      <th>Species</th>\n",
       "    </tr>\n",
       "  </thead>\n",
       "  <tbody>\n",
       "    <tr>\n",
       "      <th>0</th>\n",
       "      <td>5.1</td>\n",
       "      <td>3.5</td>\n",
       "      <td>1.4</td>\n",
       "      <td>0.2</td>\n",
       "      <td>setosa</td>\n",
       "    </tr>\n",
       "    <tr>\n",
       "      <th>1</th>\n",
       "      <td>4.9</td>\n",
       "      <td>3.0</td>\n",
       "      <td>1.4</td>\n",
       "      <td>0.2</td>\n",
       "      <td>setosa</td>\n",
       "    </tr>\n",
       "    <tr>\n",
       "      <th>2</th>\n",
       "      <td>4.7</td>\n",
       "      <td>3.2</td>\n",
       "      <td>1.3</td>\n",
       "      <td>0.2</td>\n",
       "      <td>setosa</td>\n",
       "    </tr>\n",
       "    <tr>\n",
       "      <th>3</th>\n",
       "      <td>4.6</td>\n",
       "      <td>3.1</td>\n",
       "      <td>1.5</td>\n",
       "      <td>0.2</td>\n",
       "      <td>setosa</td>\n",
       "    </tr>\n",
       "    <tr>\n",
       "      <th>4</th>\n",
       "      <td>5.0</td>\n",
       "      <td>3.6</td>\n",
       "      <td>1.4</td>\n",
       "      <td>0.2</td>\n",
       "      <td>setosa</td>\n",
       "    </tr>\n",
       "  </tbody>\n",
       "</table>\n",
       "</div>"
      ],
      "text/plain": [
       "   Sepal.Length  Sepal.Width  Petal.Length  Petal.Width Species\n",
       "0           5.1          3.5           1.4          0.2  setosa\n",
       "1           4.9          3.0           1.4          0.2  setosa\n",
       "2           4.7          3.2           1.3          0.2  setosa\n",
       "3           4.6          3.1           1.5          0.2  setosa\n",
       "4           5.0          3.6           1.4          0.2  setosa"
      ]
     },
     "execution_count": 44,
     "metadata": {},
     "output_type": "execute_result"
    }
   ],
   "source": [
    "data = pd.read_csv(\"../datasets/iris/iris.csv\")\n",
    "data.head()"
   ]
  },
  {
   "cell_type": "code",
   "execution_count": 4,
   "metadata": {},
   "outputs": [
    {
     "data": {
      "text/plain": [
       "(150, 5)"
      ]
     },
     "execution_count": 4,
     "metadata": {},
     "output_type": "execute_result"
    }
   ],
   "source": [
    "data.shape"
   ]
  },
  {
   "cell_type": "code",
   "execution_count": 80,
   "metadata": {},
   "outputs": [
    {
     "data": {
      "text/plain": [
       "([array([1., 0., 0., 0., 0., 0., 0., 0., 0., 0.]),\n",
       "  array([1., 0., 0., 0., 0., 0., 0., 0., 0., 0.]),\n",
       "  array([1., 0., 0., 0., 0., 0., 0., 0., 0., 0.]),\n",
       "  array([1., 0., 0., 0., 0., 0., 0., 0., 0., 0.]),\n",
       "  array([1., 0., 0., 0., 0., 0., 0., 0., 0., 0.]),\n",
       "  array([1., 0., 0., 0., 0., 0., 0., 0., 0., 0.]),\n",
       "  array([1., 0., 0., 0., 0., 0., 0., 0., 0., 0.]),\n",
       "  array([1., 0., 0., 0., 0., 0., 0., 0., 0., 0.]),\n",
       "  array([1., 0., 0., 0., 0., 0., 0., 0., 0., 0.]),\n",
       "  array([1., 0., 0., 0., 0., 0., 0., 0., 0., 0.]),\n",
       "  array([1., 0., 0., 0., 0., 0., 0., 0., 0., 0.]),\n",
       "  array([1., 0., 0., 0., 0., 0., 0., 0., 0., 0.]),\n",
       "  array([1., 0., 0., 0., 0., 0., 0., 0., 0., 0.]),\n",
       "  array([1., 0., 0., 0., 0., 0., 0., 0., 0., 0.]),\n",
       "  array([1., 0., 0., 0., 0., 0., 0., 0., 0., 0.]),\n",
       "  array([1., 0., 0., 0., 0., 0., 0., 0., 0., 0.]),\n",
       "  array([1., 0., 0., 0., 0., 0., 0., 0., 0., 0.]),\n",
       "  array([1., 0., 0., 0., 0., 0., 0., 0., 0., 0.]),\n",
       "  array([1., 0., 0., 0., 0., 0., 0., 0., 0., 0.]),\n",
       "  array([1., 0., 0., 0., 0., 0., 0., 0., 0., 0.]),\n",
       "  array([1., 0., 0., 0., 0., 0., 0., 0., 0., 0.]),\n",
       "  array([1., 0., 0., 0., 0., 0., 0., 0., 0., 0.]),\n",
       "  array([1., 0., 0., 0., 0., 0., 0., 0., 0., 0.]),\n",
       "  array([1., 0., 0., 0., 0., 0., 0., 0., 0., 0.]),\n",
       "  array([1., 0., 0., 0., 0., 0., 0., 0., 0., 0.]),\n",
       "  array([1., 0., 0., 0., 0., 0., 0., 0., 0., 0.]),\n",
       "  array([1., 0., 0., 0., 0., 0., 0., 0., 0., 0.]),\n",
       "  array([1., 0., 0., 0., 0., 0., 0., 0., 0., 0.]),\n",
       "  array([1., 0., 0., 0., 0., 0., 0., 0., 0., 0.]),\n",
       "  array([1., 0., 0., 0., 0., 0., 0., 0., 0., 0.]),\n",
       "  array([1., 0., 0., 0., 0., 0., 0., 0., 0., 0.]),\n",
       "  array([1., 0., 0., 0., 0., 0., 0., 0., 0., 0.]),\n",
       "  array([1., 0., 0., 0., 0., 0., 0., 0., 0., 0.]),\n",
       "  array([1., 0., 0., 0., 0., 0., 0., 0., 0., 0.]),\n",
       "  array([1., 0., 0., 0., 0., 0., 0., 0., 0., 0.]),\n",
       "  array([1., 0., 0., 0., 0., 0., 0., 0., 0., 0.]),\n",
       "  array([1., 0., 0., 0., 0., 0., 0., 0., 0., 0.]),\n",
       "  array([1., 0., 0., 0., 0., 0., 0., 0., 0., 0.]),\n",
       "  array([1., 0., 0., 0., 0., 0., 0., 0., 0., 0.]),\n",
       "  array([1., 0., 0., 0., 0., 0., 0., 0., 0., 0.]),\n",
       "  array([1., 0., 0., 0., 0., 0., 0., 0., 0., 0.]),\n",
       "  array([1., 0., 0., 0., 0., 0., 0., 0., 0., 0.]),\n",
       "  array([1., 0., 0., 0., 0., 0., 0., 0., 0., 0.]),\n",
       "  array([1., 0., 0., 0., 0., 0., 0., 0., 0., 0.]),\n",
       "  array([1., 0., 0., 0., 0., 0., 0., 0., 0., 0.]),\n",
       "  array([1., 0., 0., 0., 0., 0., 0., 0., 0., 0.]),\n",
       "  array([1., 0., 0., 0., 0., 0., 0., 0., 0., 0.]),\n",
       "  array([1., 0., 0., 0., 0., 0., 0., 0., 0., 0.]),\n",
       "  array([1., 0., 0., 0., 0., 0., 0., 0., 0., 0.]),\n",
       "  array([1., 0., 0., 0., 0., 0., 0., 0., 0., 0.]),\n",
       "  array([0., 0., 0., 0., 0., 1., 0., 0., 0., 0.]),\n",
       "  array([0., 0., 0., 0., 0., 1., 0., 0., 0., 0.]),\n",
       "  array([0., 0., 0., 0., 0., 1., 0., 0., 0., 0.]),\n",
       "  array([0., 0., 0., 0., 0., 1., 0., 0., 0., 0.]),\n",
       "  array([0., 0., 0., 0., 0., 1., 0., 0., 0., 0.]),\n",
       "  array([0., 0., 0., 0., 0., 1., 0., 0., 0., 0.]),\n",
       "  array([0., 0., 0., 0., 0., 1., 0., 0., 0., 0.]),\n",
       "  array([0., 0., 0., 0., 0., 1., 0., 0., 0., 0.]),\n",
       "  array([0., 0., 0., 0., 0., 1., 0., 0., 0., 0.]),\n",
       "  array([0., 0., 0., 0., 0., 1., 0., 0., 0., 0.]),\n",
       "  array([0., 0., 0., 0., 0., 1., 0., 0., 0., 0.]),\n",
       "  array([0., 0., 0., 0., 0., 1., 0., 0., 0., 0.]),\n",
       "  array([0., 0., 0., 0., 0., 1., 0., 0., 0., 0.]),\n",
       "  array([0., 0., 0., 0., 0., 1., 0., 0., 0., 0.]),\n",
       "  array([0., 0., 0., 0., 0., 1., 0., 0., 0., 0.]),\n",
       "  array([0., 0., 0., 0., 0., 1., 0., 0., 0., 0.]),\n",
       "  array([0., 0., 0., 0., 0., 1., 0., 0., 0., 0.]),\n",
       "  array([0., 0., 0., 0., 0., 1., 0., 0., 0., 0.]),\n",
       "  array([0., 0., 0., 0., 0., 1., 0., 0., 0., 0.]),\n",
       "  array([0., 0., 0., 0., 0., 1., 0., 0., 0., 0.]),\n",
       "  array([0., 0., 0., 0., 0., 1., 0., 0., 0., 0.]),\n",
       "  array([0., 0., 0., 0., 0., 1., 0., 0., 0., 0.]),\n",
       "  array([0., 0., 0., 0., 0., 1., 0., 0., 0., 0.]),\n",
       "  array([0., 0., 0., 0., 0., 1., 0., 0., 0., 0.]),\n",
       "  array([0., 0., 0., 0., 0., 1., 0., 0., 0., 0.]),\n",
       "  array([0., 0., 0., 0., 0., 1., 0., 0., 0., 0.]),\n",
       "  array([0., 0., 0., 0., 0., 1., 0., 0., 0., 0.]),\n",
       "  array([0., 0., 0., 0., 0., 1., 0., 0., 0., 0.]),\n",
       "  array([0., 0., 0., 0., 0., 1., 0., 0., 0., 0.]),\n",
       "  array([0., 0., 0., 0., 0., 1., 0., 0., 0., 0.]),\n",
       "  array([0., 0., 0., 0., 0., 1., 0., 0., 0., 0.]),\n",
       "  array([0., 0., 0., 0., 0., 1., 0., 0., 0., 0.]),\n",
       "  array([0., 0., 0., 0., 0., 1., 0., 0., 0., 0.]),\n",
       "  array([0., 0., 0., 0., 0., 1., 0., 0., 0., 0.]),\n",
       "  array([0., 0., 0., 0., 0., 1., 0., 0., 0., 0.]),\n",
       "  array([0., 0., 0., 0., 0., 1., 0., 0., 0., 0.]),\n",
       "  array([0., 0., 0., 0., 0., 1., 0., 0., 0., 0.]),\n",
       "  array([0., 0., 0., 0., 0., 1., 0., 0., 0., 0.]),\n",
       "  array([0., 0., 0., 0., 0., 1., 0., 0., 0., 0.]),\n",
       "  array([0., 0., 0., 0., 0., 1., 0., 0., 0., 0.]),\n",
       "  array([0., 0., 0., 0., 0., 1., 0., 0., 0., 0.]),\n",
       "  array([0., 0., 0., 0., 0., 1., 0., 0., 0., 0.]),\n",
       "  array([0., 0., 0., 0., 0., 1., 0., 0., 0., 0.]),\n",
       "  array([0., 0., 0., 0., 0., 1., 0., 0., 0., 0.]),\n",
       "  array([0., 0., 0., 0., 0., 1., 0., 0., 0., 0.]),\n",
       "  array([0., 0., 0., 0., 0., 1., 0., 0., 0., 0.]),\n",
       "  array([0., 0., 0., 0., 0., 1., 0., 0., 0., 0.]),\n",
       "  array([0., 0., 0., 0., 0., 1., 0., 0., 0., 0.]),\n",
       "  array([0., 0., 0., 0., 0., 1., 0., 0., 0., 0.]),\n",
       "  array([0., 0., 0., 0., 0., 1., 0., 0., 0., 0.]),\n",
       "  array([0., 0., 0., 0., 0., 0., 0., 0., 0., 1.]),\n",
       "  array([0., 0., 0., 0., 0., 0., 0., 0., 0., 1.]),\n",
       "  array([0., 0., 0., 0., 0., 0., 0., 0., 0., 1.]),\n",
       "  array([0., 0., 0., 0., 0., 0., 0., 0., 0., 1.]),\n",
       "  array([0., 0., 0., 0., 0., 0., 0., 0., 0., 1.]),\n",
       "  array([0., 0., 0., 0., 0., 0., 0., 0., 0., 1.]),\n",
       "  array([0., 0., 0., 0., 0., 0., 0., 0., 0., 1.]),\n",
       "  array([0., 0., 0., 0., 0., 0., 0., 0., 0., 1.]),\n",
       "  array([0., 0., 0., 0., 0., 0., 0., 0., 0., 1.]),\n",
       "  array([0., 0., 0., 0., 0., 0., 0., 0., 0., 1.]),\n",
       "  array([0., 0., 0., 0., 0., 0., 0., 0., 0., 1.]),\n",
       "  array([0., 0., 0., 0., 0., 0., 0., 0., 0., 1.]),\n",
       "  array([0., 0., 0., 0., 0., 0., 0., 0., 0., 1.]),\n",
       "  array([0., 0., 0., 0., 0., 0., 0., 0., 0., 1.]),\n",
       "  array([0., 0., 0., 0., 0., 0., 0., 0., 0., 1.]),\n",
       "  array([0., 0., 0., 0., 0., 0., 0., 0., 0., 1.]),\n",
       "  array([0., 0., 0., 0., 0., 0., 0., 0., 0., 1.]),\n",
       "  array([0., 0., 0., 0., 0., 0., 0., 0., 0., 1.]),\n",
       "  array([0., 0., 0., 0., 0., 0., 0., 0., 0., 1.]),\n",
       "  array([0., 0., 0., 0., 0., 0., 0., 0., 0., 1.]),\n",
       "  array([0., 0., 0., 0., 0., 0., 0., 0., 0., 1.]),\n",
       "  array([0., 0., 0., 0., 0., 0., 0., 0., 0., 1.]),\n",
       "  array([0., 0., 0., 0., 0., 0., 0., 0., 0., 1.]),\n",
       "  array([0., 0., 0., 0., 0., 0., 0., 0., 0., 1.]),\n",
       "  array([0., 0., 0., 0., 0., 0., 0., 0., 0., 1.]),\n",
       "  array([0., 0., 0., 0., 0., 0., 0., 0., 0., 1.]),\n",
       "  array([0., 0., 0., 0., 0., 0., 0., 0., 0., 1.]),\n",
       "  array([0., 0., 0., 0., 0., 0., 0., 0., 0., 1.]),\n",
       "  array([0., 0., 0., 0., 0., 0., 0., 0., 0., 1.]),\n",
       "  array([0., 0., 0., 0., 0., 0., 0., 0., 0., 1.]),\n",
       "  array([0., 0., 0., 0., 0., 0., 0., 0., 0., 1.]),\n",
       "  array([0., 0., 0., 0., 0., 0., 0., 0., 0., 1.]),\n",
       "  array([0., 0., 0., 0., 0., 0., 0., 0., 0., 1.]),\n",
       "  array([0., 0., 0., 0., 0., 0., 0., 0., 0., 1.]),\n",
       "  array([0., 0., 0., 0., 0., 0., 0., 0., 0., 1.]),\n",
       "  array([0., 0., 0., 0., 0., 0., 0., 0., 0., 1.]),\n",
       "  array([0., 0., 0., 0., 0., 0., 0., 0., 0., 1.]),\n",
       "  array([0., 0., 0., 0., 0., 0., 0., 0., 0., 1.]),\n",
       "  array([0., 0., 0., 0., 0., 0., 0., 0., 0., 1.]),\n",
       "  array([0., 0., 0., 0., 0., 0., 0., 0., 0., 1.]),\n",
       "  array([0., 0., 0., 0., 0., 0., 0., 0., 0., 1.]),\n",
       "  array([0., 0., 0., 0., 0., 0., 0., 0., 0., 1.]),\n",
       "  array([0., 0., 0., 0., 0., 0., 0., 0., 0., 1.]),\n",
       "  array([0., 0., 0., 0., 0., 0., 0., 0., 0., 1.]),\n",
       "  array([0., 0., 0., 0., 0., 0., 0., 0., 0., 1.]),\n",
       "  array([0., 0., 0., 0., 0., 0., 0., 0., 0., 1.]),\n",
       "  array([0., 0., 0., 0., 0., 0., 0., 0., 0., 1.]),\n",
       "  array([0., 0., 0., 0., 0., 0., 0., 0., 0., 1.]),\n",
       "  array([0., 0., 0., 0., 0., 0., 0., 0., 0., 1.]),\n",
       "  array([0., 0., 0., 0., 0., 0., 0., 0., 0., 1.])],\n",
       " array([0. , 0.2, 0.4, 0.6, 0.8, 1. , 1.2, 1.4, 1.6, 1.8, 2. ]),\n",
       " <a list of 150 Lists of Patches objects>)"
      ]
     },
     "execution_count": 80,
     "metadata": {},
     "output_type": "execute_result"
    },
    {
     "data": {
      "image/png": "[encoded data removed]",
      "text/plain": [
       "<Figure size 432x288 with 1 Axes>"
      ]
     },
     "metadata": {
      "needs_background": "light"
     },
     "output_type": "display_data"
    }
   ],
   "source": [
    "plt.hist(data.Species)"
   ]
  },
  {
   "cell_type": "code",
   "execution_count": 8,
   "metadata": {},
   "outputs": [
    {
     "data": {
      "text/plain": [
       "array(['setosa', 'versicolor', 'virginica'], dtype=object)"
      ]
     },
     "execution_count": 8,
     "metadata": {},
     "output_type": "execute_result"
    }
   ],
   "source": [
    "data.Species.unique()"
   ]
  },
  {
   "cell_type": "code",
   "execution_count": 9,
   "metadata": {},
   "outputs": [],
   "source": [
    "colnames = data.columns.values.tolist()\n",
    "predictors = colnames[:4]\n",
    "target = colnames[4]"
   ]
  },
  {
   "cell_type": "code",
   "execution_count": 10,
   "metadata": {},
   "outputs": [
    {
     "data": {
      "text/plain": [
       "'Species'"
      ]
     },
     "execution_count": 10,
     "metadata": {},
     "output_type": "execute_result"
    }
   ],
   "source": [
    "target"
   ]
  },
  {
   "cell_type": "code",
   "execution_count": 32,
   "metadata": {},
   "outputs": [],
   "source": [
    "import numpy as np"
   ]
  },
  {
   "cell_type": "code",
   "execution_count": 76,
   "metadata": {},
   "outputs": [],
   "source": [
    "#Generamos una distribución uniforme entre 0 y 1 del 75% del dataset (para entrenamiento)\n",
    "data[\"is_train\"] = (np.random.uniform(0, 1, len(data))<=0.75).astype(int)"
   ]
  },
  {
   "cell_type": "code",
   "execution_count": 77,
   "metadata": {},
   "outputs": [
    {
     "data": {
      "text/html": [
       "<div>\n",
       "<style scoped>\n",
       "    .dataframe tbody tr th:only-of-type {\n",
       "        vertical-align: middle;\n",
       "    }\n",
       "\n",
       "    .dataframe tbody tr th {\n",
       "        vertical-align: top;\n",
       "    }\n",
       "\n",
       "    .dataframe thead th {\n",
       "        text-align: right;\n",
       "    }\n",
       "</style>\n",
       "<table border=\"1\" class=\"dataframe\">\n",
       "  <thead>\n",
       "    <tr style=\"text-align: right;\">\n",
       "      <th></th>\n",
       "      <th>is_train</th>\n",
       "    </tr>\n",
       "  </thead>\n",
       "  <tbody>\n",
       "    <tr>\n",
       "      <th>0</th>\n",
       "      <td>1</td>\n",
       "    </tr>\n",
       "    <tr>\n",
       "      <th>1</th>\n",
       "      <td>0</td>\n",
       "    </tr>\n",
       "    <tr>\n",
       "      <th>2</th>\n",
       "      <td>0</td>\n",
       "    </tr>\n",
       "    <tr>\n",
       "      <th>3</th>\n",
       "      <td>0</td>\n",
       "    </tr>\n",
       "    <tr>\n",
       "      <th>4</th>\n",
       "      <td>1</td>\n",
       "    </tr>\n",
       "  </tbody>\n",
       "</table>\n",
       "</div>"
      ],
      "text/plain": [
       "   is_train\n",
       "0         1\n",
       "1         0\n",
       "2         0\n",
       "3         0\n",
       "4         1"
      ]
     },
     "execution_count": 77,
     "metadata": {},
     "output_type": "execute_result"
    }
   ],
   "source": [
    "pd.DataFrame(data[\"is_train\"]).head()"
   ]
  },
  {
   "cell_type": "code",
   "execution_count": 78,
   "metadata": {},
   "outputs": [
    {
     "data": {
      "text/html": [
       "<div>\n",
       "<style scoped>\n",
       "    .dataframe tbody tr th:only-of-type {\n",
       "        vertical-align: middle;\n",
       "    }\n",
       "\n",
       "    .dataframe tbody tr th {\n",
       "        vertical-align: top;\n",
       "    }\n",
       "\n",
       "    .dataframe thead th {\n",
       "        text-align: right;\n",
       "    }\n",
       "</style>\n",
       "<table border=\"1\" class=\"dataframe\">\n",
       "  <thead>\n",
       "    <tr style=\"text-align: right;\">\n",
       "      <th></th>\n",
       "      <th>Sepal.Length</th>\n",
       "      <th>Sepal.Width</th>\n",
       "      <th>Petal.Length</th>\n",
       "      <th>Petal.Width</th>\n",
       "      <th>Species</th>\n",
       "      <th>is_train</th>\n",
       "    </tr>\n",
       "  </thead>\n",
       "  <tbody>\n",
       "    <tr>\n",
       "      <th>0</th>\n",
       "      <td>5.1</td>\n",
       "      <td>3.5</td>\n",
       "      <td>1.4</td>\n",
       "      <td>0.2</td>\n",
       "      <td>setosa</td>\n",
       "      <td>1</td>\n",
       "    </tr>\n",
       "    <tr>\n",
       "      <th>1</th>\n",
       "      <td>4.9</td>\n",
       "      <td>3.0</td>\n",
       "      <td>1.4</td>\n",
       "      <td>0.2</td>\n",
       "      <td>setosa</td>\n",
       "      <td>0</td>\n",
       "    </tr>\n",
       "    <tr>\n",
       "      <th>2</th>\n",
       "      <td>4.7</td>\n",
       "      <td>3.2</td>\n",
       "      <td>1.3</td>\n",
       "      <td>0.2</td>\n",
       "      <td>setosa</td>\n",
       "      <td>0</td>\n",
       "    </tr>\n",
       "    <tr>\n",
       "      <th>3</th>\n",
       "      <td>4.6</td>\n",
       "      <td>3.1</td>\n",
       "      <td>1.5</td>\n",
       "      <td>0.2</td>\n",
       "      <td>setosa</td>\n",
       "      <td>0</td>\n",
       "    </tr>\n",
       "    <tr>\n",
       "      <th>4</th>\n",
       "      <td>5.0</td>\n",
       "      <td>3.6</td>\n",
       "      <td>1.4</td>\n",
       "      <td>0.2</td>\n",
       "      <td>setosa</td>\n",
       "      <td>1</td>\n",
       "    </tr>\n",
       "  </tbody>\n",
       "</table>\n",
       "</div>"
      ],
      "text/plain": [
       "   Sepal.Length  Sepal.Width  Petal.Length  Petal.Width Species  is_train\n",
       "0           5.1          3.5           1.4          0.2  setosa         1\n",
       "1           4.9          3.0           1.4          0.2  setosa         0\n",
       "2           4.7          3.2           1.3          0.2  setosa         0\n",
       "3           4.6          3.1           1.5          0.2  setosa         0\n",
       "4           5.0          3.6           1.4          0.2  setosa         1"
      ]
     },
     "execution_count": 78,
     "metadata": {},
     "output_type": "execute_result"
    }
   ],
   "source": [
    "data.head()"
   ]
  },
  {
   "cell_type": "code",
   "execution_count": 79,
   "metadata": {},
   "outputs": [
    {
     "data": {
      "text/plain": [
       "(array([ 32.,   0.,   0.,   0.,   0.,   0.,   0.,   0.,   0., 118.]),\n",
       " array([0. , 0.1, 0.2, 0.3, 0.4, 0.5, 0.6, 0.7, 0.8, 0.9, 1. ]),\n",
       " <a list of 10 Patch objects>)"
      ]
     },
     "execution_count": 79,
     "metadata": {},
     "output_type": "execute_result"
    },
    {
     "data": {
      "image/png": "[encoded data removed]",
      "text/plain": [
       "<Figure size 432x288 with 1 Axes>"
      ]
     },
     "metadata": {
      "needs_background": "light"
     },
     "output_type": "display_data"
    }
   ],
   "source": [
    "plt.hist(data.is_train)"
   ]
  },
  {
   "cell_type": "code",
   "execution_count": 81,
   "metadata": {},
   "outputs": [],
   "source": [
    "train, test = data[data[\"is_train\"] == True], data[data[\"is_train\"] == False]"
   ]
  },
  {
   "cell_type": "code",
   "execution_count": 82,
   "metadata": {},
   "outputs": [],
   "source": [
    "from sklearn.tree import DecisionTreeClassifier"
   ]
  },
  {
   "cell_type": "code",
   "execution_count": 83,
   "metadata": {},
   "outputs": [
    {
     "data": {
      "text/plain": [
       "DecisionTreeClassifier(class_weight=None, criterion='entropy', max_depth=None,\n",
       "            max_features=None, max_leaf_nodes=None,\n",
       "            min_impurity_decrease=0.0, min_impurity_split=None,\n",
       "            min_samples_leaf=1, min_samples_split=20,\n",
       "            min_weight_fraction_leaf=0.0, presort=False, random_state=99,\n",
       "            splitter='best')"
      ]
     },
     "execution_count": 83,
     "metadata": {},
     "output_type": "execute_result"
    }
   ],
   "source": [
    "tree = DecisionTreeClassifier(criterion=\"entropy\", min_samples_split=20, random_state=99)\n",
    "tree.fit(train[predictors], train[target])"
   ]
  },
  {
   "cell_type": "code",
   "execution_count": 85,
   "metadata": {},
   "outputs": [],
   "source": [
    "preds = tree.predict(test[predictors])"
   ]
  },
  {
   "cell_type": "code",
   "execution_count": 86,
   "metadata": {},
   "outputs": [
    {
     "data": {
      "text/html": [
       "<div>\n",
       "<style scoped>\n",
       "    .dataframe tbody tr th:only-of-type {\n",
       "        vertical-align: middle;\n",
       "    }\n",
       "\n",
       "    .dataframe tbody tr th {\n",
       "        vertical-align: top;\n",
       "    }\n",
       "\n",
       "    .dataframe thead th {\n",
       "        text-align: right;\n",
       "    }\n",
       "</style>\n",
       "<table border=\"1\" class=\"dataframe\">\n",
       "  <thead>\n",
       "    <tr style=\"text-align: right;\">\n",
       "      <th>Predictions</th>\n",
       "      <th>setosa</th>\n",
       "      <th>versicolor</th>\n",
       "      <th>virginica</th>\n",
       "    </tr>\n",
       "    <tr>\n",
       "      <th>Actual</th>\n",
       "      <th></th>\n",
       "      <th></th>\n",
       "      <th></th>\n",
       "    </tr>\n",
       "  </thead>\n",
       "  <tbody>\n",
       "    <tr>\n",
       "      <th>setosa</th>\n",
       "      <td>10</td>\n",
       "      <td>0</td>\n",
       "      <td>0</td>\n",
       "    </tr>\n",
       "    <tr>\n",
       "      <th>versicolor</th>\n",
       "      <td>0</td>\n",
       "      <td>8</td>\n",
       "      <td>1</td>\n",
       "    </tr>\n",
       "    <tr>\n",
       "      <th>virginica</th>\n",
       "      <td>0</td>\n",
       "      <td>2</td>\n",
       "      <td>11</td>\n",
       "    </tr>\n",
       "  </tbody>\n",
       "</table>\n",
       "</div>"
      ],
      "text/plain": [
       "Predictions  setosa  versicolor  virginica\n",
       "Actual                                    \n",
       "setosa           10           0          0\n",
       "versicolor        0           8          1\n",
       "virginica         0           2         11"
      ]
     },
     "execution_count": 86,
     "metadata": {},
     "output_type": "execute_result"
    }
   ],
   "source": [
    "pd.crosstab(test[target], preds, rownames=[\"Actual\"], colnames=[\"Predictions\"])"
   ]
  },
  {
   "cell_type": "code",
   "execution_count": null,
   "metadata": {},
   "outputs": [],
   "source": []
  }
 ],
 "metadata": {
  "kernelspec": {
   "display_name": "Python 3",
   "language": "python",
   "name": "python3"
  },
  "language_info": {
   "codemirror_mode": {
    "name": "ipython",
    "version": 3
   },
   "file_extension": ".py",
   "mimetype": "text/x-python",
   "name": "python",
   "nbconvert_exporter": "python",
   "pygments_lexer": "ipython3",
   "version": "3.7.0"
  }
 },
 "nbformat": 4,
 "nbformat_minor": 2
}
